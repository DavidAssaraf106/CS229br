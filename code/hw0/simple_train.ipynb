{
 "cells": [
  {
   "cell_type": "code",
   "execution_count": 24,
   "metadata": {},
   "outputs": [
    {
     "name": "stdout",
     "output_type": "stream",
     "text": [
      "Requirement already satisfied: tqdm in /usr/local/lib/python3.6/dist-packages (4.56.0)\n",
      "\u001b[33mWARNING: You are using pip version 19.2.1, however version 21.0 is available.\n",
      "You should consider upgrading via the 'pip install --upgrade pip' command.\u001b[0m\n"
     ]
    }
   ],
   "source": [
    "# install: tqdm (progress bars)\n",
    "!pip install tqdm\n",
    "import torch\n",
    "import torch.nn as nn\n",
    "import numpy as np\n",
    "from tqdm.auto import tqdm\n",
    "from torch.utils.data import DataLoader, Dataset, TensorDataset\n",
    "import torchvision.datasets as ds\n",
    "import matplotlib.pyplot as plt"
   ]
  },
  {
   "cell_type": "markdown",
   "metadata": {},
   "source": [
    "## Load the data (CIFAR-10)"
   ]
  },
  {
   "cell_type": "code",
   "execution_count": 45,
   "metadata": {},
   "outputs": [
    {
     "name": "stdout",
     "output_type": "stream",
     "text": [
      "Files already downloaded and verified\n",
      "Files already downloaded and verified\n"
     ]
    }
   ],
   "source": [
    "def load_cifar(datadir='./data_cache'): # will download ~400MB of data into this dir. Change the dir if neccesary. If using paperspace, you can make this /storage\n",
    "    train_ds = ds.CIFAR10(root=datadir, train=True,\n",
    "                           download=True, transform=None)\n",
    "    test_ds = ds.CIFAR10(root=datadir, train=False,\n",
    "                          download=True, transform=None)\n",
    "\n",
    "    def to_xy(dataset):\n",
    "        X = torch.Tensor(np.transpose(dataset.data, (0, 3, 1, 2))).float() / 255.0  # [0, 1]\n",
    "        Y = torch.Tensor(np.array(dataset.targets)).long()\n",
    "        return X, Y\n",
    "\n",
    "    X_tr, Y_tr = to_xy(train_ds)\n",
    "    X_te, Y_te = to_xy(test_ds)\n",
    "    return X_tr, Y_tr, X_te, Y_te\n",
    "\n",
    "def make_loader(dataset, batch_size=128):\n",
    "    return torch.utils.data.DataLoader(dataset, batch_size=batch_size,\n",
    "            shuffle=True, num_workers=4, pin_memory=True)\n",
    "\n",
    "X_tr, Y_tr, X_te, Y_te = load_cifar()\n",
    "X_te_flipped = torch.flip(X_te, [2, 3])\n",
    "train_dl = make_loader(TensorDataset(X_tr, Y_tr))\n",
    "test_dl = make_loader(TensorDataset(X_te, Y_te))\n",
    "flipped_test_dl = make_loader(TensorDataset(X_te_flipped, Y_te))"
   ]
  },
  {
   "cell_type": "markdown",
   "metadata": {},
   "source": [
    "## Training helper functions"
   ]
  },
  {
   "cell_type": "code",
   "execution_count": 6,
   "metadata": {},
   "outputs": [
    {
     "name": "stderr",
     "output_type": "stream",
     "text": [
      "170500096it [02:13, 1274216.58it/s] \n"
     ]
    }
   ],
   "source": [
    "def train_epoch(model, train_dl : DataLoader, opt, k = 50):\n",
    "    ''' Trains model for one epoch on the provided dataloader, with optimizer opt. Logs stats every k batches.'''\n",
    "    loss_func = nn.CrossEntropyLoss()\n",
    "    model.train()\n",
    "    model.cuda()\n",
    "\n",
    "    netLoss = 0.0\n",
    "    nCorrect = 0\n",
    "    nTotal = 0\n",
    "    for i, (xB, yB) in enumerate(tqdm(train_dl)):\n",
    "        opt.zero_grad()\n",
    "        xB, yB = xB.cuda(), yB.cuda()\n",
    "        outputs = model(xB)\n",
    "        loss = loss_func(outputs, yB)\n",
    "        loss.backward()\n",
    "        opt.step()\n",
    "        netLoss += loss.item() * len(xB)\n",
    "        with torch.no_grad():\n",
    "            _, preds = torch.max(outputs, dim=1)\n",
    "            nCorrect += (preds == yB).float().sum()\n",
    "            nTotal += preds.size(0)\n",
    "        \n",
    "        if (i+1) % k == 0:\n",
    "            train_acc = nCorrect/nTotal\n",
    "            avg_loss = netLoss/nTotal\n",
    "            print(f'\\t [Batch {i+1} / {len(train_dl)}] Train Loss: {avg_loss:.3f} \\t Train Acc: {train_acc:.3f}')\n",
    "  \n",
    "    train_acc = nCorrect/nTotal\n",
    "    avg_loss = netLoss/nTotal\n",
    "    return avg_loss, train_acc\n",
    "\n",
    "\n",
    "def evaluate(model, test_dl, loss_func=nn.CrossEntropyLoss().cuda()):\n",
    "    ''' Returns loss, acc'''\n",
    "    model.eval()\n",
    "    model.cuda()\n",
    "    nCorrect = 0.0\n",
    "    nTotal = 0\n",
    "    net_loss = 0.0\n",
    "    with torch.no_grad():\n",
    "        for (xb, yb) in test_dl:\n",
    "            xb, yb = xb.cuda(), yb.cuda()\n",
    "            outputs = model(xb)\n",
    "            loss = len(xb) * loss_func(outputs, yb)\n",
    "            _, preds = torch.max(outputs, dim=1)\n",
    "            nCorrect += (preds == yb).float().sum()\n",
    "            net_loss += loss\n",
    "            nTotal += preds.size(0)\n",
    "\n",
    "    acc = nCorrect.cpu().item() / float(nTotal)\n",
    "    loss = net_loss.cpu().item() / float(nTotal)\n",
    "    return loss, acc"
   ]
  },
  {
   "cell_type": "code",
   "execution_count": 7,
   "metadata": {},
   "outputs": [],
   "source": [
    "## Define model"
   ]
  },
  {
   "cell_type": "code",
   "execution_count": 9,
   "metadata": {},
   "outputs": [],
   "source": [
    "## 5-Layer CNN for CIFAR\n",
    "## This is the Myrtle5 network by David Page (https://myrtle.ai/learn/how-to-train-your-resnet-4-architecture/)\n",
    "\n",
    "class Flatten(nn.Module):\n",
    "    def forward(self, x): return x.view(x.size(0), x.size(1))\n",
    "\n",
    "def make_cnn(c=64, num_classes=10):\n",
    "    ''' Returns a 5-layer CNN with width parameter c. '''\n",
    "    return nn.Sequential(\n",
    "        # Layer 0\n",
    "        nn.Conv2d(3, c, kernel_size=3, stride=1,\n",
    "                  padding=1, bias=True),\n",
    "        nn.BatchNorm2d(c),\n",
    "        nn.ReLU(),\n",
    "\n",
    "        # Layer 1\n",
    "        nn.Conv2d(c, c*2, kernel_size=3,\n",
    "                  stride=1, padding=1, bias=True),\n",
    "        nn.BatchNorm2d(c*2),\n",
    "        nn.ReLU(),\n",
    "        nn.MaxPool2d(2),\n",
    "\n",
    "        # Layer 2\n",
    "        nn.Conv2d(c*2, c*4, kernel_size=3,\n",
    "                  stride=1, padding=1, bias=True),\n",
    "        nn.BatchNorm2d(c*4),\n",
    "        nn.ReLU(),\n",
    "        nn.MaxPool2d(2),\n",
    "\n",
    "        # Layer 3\n",
    "        nn.Conv2d(c*4, c*8, kernel_size=3,\n",
    "                  stride=1, padding=1, bias=True),\n",
    "        nn.BatchNorm2d(c*8),\n",
    "        nn.ReLU(),\n",
    "        nn.MaxPool2d(2),\n",
    "\n",
    "        # Layer 4\n",
    "        nn.MaxPool2d(4),\n",
    "        Flatten(),\n",
    "        nn.Linear(c*8, num_classes, bias=True)\n",
    "    )"
   ]
  },
  {
   "cell_type": "code",
   "execution_count": 9,
   "metadata": {},
   "outputs": [],
   "source": [
    "## Train"
   ]
  },
  {
   "cell_type": "code",
   "execution_count": 48,
   "metadata": {
    "scrolled": true
   },
   "outputs": [
    {
     "name": "stdout",
     "output_type": "stream",
     "text": [
      "Starting Epoch 0\n"
     ]
    },
    {
     "data": {
      "application/vnd.jupyter.widget-view+json": {
       "model_id": "7d3517db9ec1450c8f76d076d7d75859",
       "version_major": 2,
       "version_minor": 0
      },
      "text/plain": [
       "  0%|          | 0/391 [00:00<?, ?it/s]"
      ]
     },
     "metadata": {},
     "output_type": "display_data"
    },
    {
     "name": "stdout",
     "output_type": "stream",
     "text": [
      "\t [Batch 50 / 391] Train Loss: 6.340 \t Train Acc: 0.153\n",
      "\t [Batch 100 / 391] Train Loss: 4.578 \t Train Acc: 0.184\n",
      "\t [Batch 150 / 391] Train Loss: 3.756 \t Train Acc: 0.214\n",
      "\t [Batch 200 / 391] Train Loss: 3.309 \t Train Acc: 0.237\n",
      "\t [Batch 250 / 391] Train Loss: 3.017 \t Train Acc: 0.258\n",
      "\t [Batch 300 / 391] Train Loss: 2.802 \t Train Acc: 0.277\n",
      "\t [Batch 350 / 391] Train Loss: 2.641 \t Train Acc: 0.294\n",
      "Epoch 0:\t Train Loss: 2.533 \t Train Acc: 0.307\t Test Acc: 0.378\n",
      "Starting Epoch 1\n"
     ]
    },
    {
     "data": {
      "application/vnd.jupyter.widget-view+json": {
       "model_id": "f24a276a61af42b384033d2290415367",
       "version_major": 2,
       "version_minor": 0
      },
      "text/plain": [
       "  0%|          | 0/391 [00:00<?, ?it/s]"
      ]
     },
     "metadata": {},
     "output_type": "display_data"
    },
    {
     "name": "stdout",
     "output_type": "stream",
     "text": [
      "\t [Batch 50 / 391] Train Loss: 1.531 \t Train Acc: 0.436\n",
      "\t [Batch 100 / 391] Train Loss: 1.498 \t Train Acc: 0.454\n",
      "\t [Batch 150 / 391] Train Loss: 1.465 \t Train Acc: 0.469\n",
      "\t [Batch 200 / 391] Train Loss: 1.442 \t Train Acc: 0.478\n",
      "\t [Batch 250 / 391] Train Loss: 1.417 \t Train Acc: 0.487\n",
      "\t [Batch 300 / 391] Train Loss: 1.395 \t Train Acc: 0.497\n",
      "\t [Batch 350 / 391] Train Loss: 1.379 \t Train Acc: 0.504\n",
      "Epoch 1:\t Train Loss: 1.364 \t Train Acc: 0.509\t Test Acc: 0.466\n",
      "Starting Epoch 2\n"
     ]
    },
    {
     "data": {
      "application/vnd.jupyter.widget-view+json": {
       "model_id": "62db1416040644f2892d5f563b33a604",
       "version_major": 2,
       "version_minor": 0
      },
      "text/plain": [
       "  0%|          | 0/391 [00:00<?, ?it/s]"
      ]
     },
     "metadata": {},
     "output_type": "display_data"
    },
    {
     "name": "stdout",
     "output_type": "stream",
     "text": [
      "\t [Batch 50 / 391] Train Loss: 1.151 \t Train Acc: 0.590\n",
      "\t [Batch 100 / 391] Train Loss: 1.153 \t Train Acc: 0.589\n",
      "\t [Batch 150 / 391] Train Loss: 1.128 \t Train Acc: 0.598\n",
      "\t [Batch 200 / 391] Train Loss: 1.124 \t Train Acc: 0.600\n",
      "\t [Batch 250 / 391] Train Loss: 1.107 \t Train Acc: 0.608\n",
      "\t [Batch 300 / 391] Train Loss: 1.092 \t Train Acc: 0.614\n",
      "\t [Batch 350 / 391] Train Loss: 1.078 \t Train Acc: 0.619\n",
      "Epoch 2:\t Train Loss: 1.074 \t Train Acc: 0.621\t Test Acc: 0.614\n",
      "Starting Epoch 3\n"
     ]
    },
    {
     "data": {
      "application/vnd.jupyter.widget-view+json": {
       "model_id": "c7b1abd7f0e442b98a92370b6369d154",
       "version_major": 2,
       "version_minor": 0
      },
      "text/plain": [
       "  0%|          | 0/391 [00:00<?, ?it/s]"
      ]
     },
     "metadata": {},
     "output_type": "display_data"
    },
    {
     "name": "stdout",
     "output_type": "stream",
     "text": [
      "\t [Batch 50 / 391] Train Loss: 0.939 \t Train Acc: 0.673\n",
      "\t [Batch 100 / 391] Train Loss: 0.939 \t Train Acc: 0.673\n",
      "\t [Batch 150 / 391] Train Loss: 0.925 \t Train Acc: 0.678\n",
      "\t [Batch 200 / 391] Train Loss: 0.914 \t Train Acc: 0.682\n",
      "\t [Batch 250 / 391] Train Loss: 0.907 \t Train Acc: 0.684\n",
      "\t [Batch 300 / 391] Train Loss: 0.903 \t Train Acc: 0.686\n",
      "\t [Batch 350 / 391] Train Loss: 0.899 \t Train Acc: 0.687\n",
      "Epoch 3:\t Train Loss: 0.889 \t Train Acc: 0.690\t Test Acc: 0.566\n",
      "Starting Epoch 4\n"
     ]
    },
    {
     "data": {
      "application/vnd.jupyter.widget-view+json": {
       "model_id": "333c06838df54e39a31bc1d89c07c658",
       "version_major": 2,
       "version_minor": 0
      },
      "text/plain": [
       "  0%|          | 0/391 [00:00<?, ?it/s]"
      ]
     },
     "metadata": {},
     "output_type": "display_data"
    },
    {
     "name": "stdout",
     "output_type": "stream",
     "text": [
      "\t [Batch 50 / 391] Train Loss: 0.816 \t Train Acc: 0.715\n",
      "\t [Batch 100 / 391] Train Loss: 0.773 \t Train Acc: 0.732\n",
      "\t [Batch 150 / 391] Train Loss: 0.767 \t Train Acc: 0.732\n",
      "\t [Batch 200 / 391] Train Loss: 0.764 \t Train Acc: 0.732\n",
      "\t [Batch 250 / 391] Train Loss: 0.763 \t Train Acc: 0.733\n",
      "\t [Batch 300 / 391] Train Loss: 0.757 \t Train Acc: 0.736\n",
      "\t [Batch 350 / 391] Train Loss: 0.755 \t Train Acc: 0.737\n",
      "Epoch 4:\t Train Loss: 0.755 \t Train Acc: 0.737\t Test Acc: 0.730\n",
      "Starting Epoch 5\n"
     ]
    },
    {
     "data": {
      "application/vnd.jupyter.widget-view+json": {
       "model_id": "568b5960314548c0bb446ab33b16bfd6",
       "version_major": 2,
       "version_minor": 0
      },
      "text/plain": [
       "  0%|          | 0/391 [00:00<?, ?it/s]"
      ]
     },
     "metadata": {},
     "output_type": "display_data"
    },
    {
     "name": "stdout",
     "output_type": "stream",
     "text": [
      "\t [Batch 50 / 391] Train Loss: 0.609 \t Train Acc: 0.792\n",
      "\t [Batch 100 / 391] Train Loss: 0.645 \t Train Acc: 0.780\n",
      "\t [Batch 150 / 391] Train Loss: 0.642 \t Train Acc: 0.780\n",
      "\t [Batch 200 / 391] Train Loss: 0.644 \t Train Acc: 0.778\n",
      "\t [Batch 250 / 391] Train Loss: 0.636 \t Train Acc: 0.780\n",
      "\t [Batch 300 / 391] Train Loss: 0.646 \t Train Acc: 0.777\n",
      "\t [Batch 350 / 391] Train Loss: 0.643 \t Train Acc: 0.779\n",
      "Epoch 5:\t Train Loss: 0.639 \t Train Acc: 0.780\t Test Acc: 0.713\n",
      "Starting Epoch 6\n"
     ]
    },
    {
     "data": {
      "application/vnd.jupyter.widget-view+json": {
       "model_id": "7fe6004f497d4022aeed1fb74c8b971a",
       "version_major": 2,
       "version_minor": 0
      },
      "text/plain": [
       "  0%|          | 0/391 [00:00<?, ?it/s]"
      ]
     },
     "metadata": {},
     "output_type": "display_data"
    },
    {
     "name": "stdout",
     "output_type": "stream",
     "text": [
      "\t [Batch 50 / 391] Train Loss: 0.547 \t Train Acc: 0.815\n",
      "\t [Batch 100 / 391] Train Loss: 0.547 \t Train Acc: 0.813\n",
      "\t [Batch 150 / 391] Train Loss: 0.553 \t Train Acc: 0.811\n",
      "\t [Batch 200 / 391] Train Loss: 0.543 \t Train Acc: 0.815\n",
      "\t [Batch 250 / 391] Train Loss: 0.551 \t Train Acc: 0.813\n",
      "\t [Batch 300 / 391] Train Loss: 0.546 \t Train Acc: 0.814\n",
      "\t [Batch 350 / 391] Train Loss: 0.547 \t Train Acc: 0.814\n",
      "Epoch 6:\t Train Loss: 0.546 \t Train Acc: 0.814\t Test Acc: 0.617\n",
      "Starting Epoch 7\n"
     ]
    },
    {
     "data": {
      "application/vnd.jupyter.widget-view+json": {
       "model_id": "525f4092b4204512b1084d0c367d7158",
       "version_major": 2,
       "version_minor": 0
      },
      "text/plain": [
       "  0%|          | 0/391 [00:00<?, ?it/s]"
      ]
     },
     "metadata": {},
     "output_type": "display_data"
    },
    {
     "name": "stdout",
     "output_type": "stream",
     "text": [
      "\t [Batch 50 / 391] Train Loss: 0.442 \t Train Acc: 0.850\n",
      "\t [Batch 100 / 391] Train Loss: 0.462 \t Train Acc: 0.841\n",
      "\t [Batch 150 / 391] Train Loss: 0.468 \t Train Acc: 0.841\n",
      "\t [Batch 200 / 391] Train Loss: 0.477 \t Train Acc: 0.839\n",
      "\t [Batch 250 / 391] Train Loss: 0.481 \t Train Acc: 0.837\n",
      "\t [Batch 300 / 391] Train Loss: 0.477 \t Train Acc: 0.838\n",
      "\t [Batch 350 / 391] Train Loss: 0.482 \t Train Acc: 0.837\n",
      "Epoch 7:\t Train Loss: 0.483 \t Train Acc: 0.837\t Test Acc: 0.735\n",
      "Starting Epoch 8\n"
     ]
    },
    {
     "data": {
      "application/vnd.jupyter.widget-view+json": {
       "model_id": "776dc07b1db043c9877af32dbbc4f271",
       "version_major": 2,
       "version_minor": 0
      },
      "text/plain": [
       "  0%|          | 0/391 [00:00<?, ?it/s]"
      ]
     },
     "metadata": {},
     "output_type": "display_data"
    },
    {
     "name": "stdout",
     "output_type": "stream",
     "text": [
      "\t [Batch 50 / 391] Train Loss: 0.367 \t Train Acc: 0.873\n",
      "\t [Batch 100 / 391] Train Loss: 0.392 \t Train Acc: 0.869\n",
      "\t [Batch 150 / 391] Train Loss: 0.393 \t Train Acc: 0.868\n",
      "\t [Batch 200 / 391] Train Loss: 0.398 \t Train Acc: 0.865\n",
      "\t [Batch 250 / 391] Train Loss: 0.400 \t Train Acc: 0.863\n",
      "\t [Batch 300 / 391] Train Loss: 0.402 \t Train Acc: 0.863\n",
      "\t [Batch 350 / 391] Train Loss: 0.399 \t Train Acc: 0.864\n",
      "Epoch 8:\t Train Loss: 0.403 \t Train Acc: 0.862\t Test Acc: 0.710\n",
      "Starting Epoch 9\n"
     ]
    },
    {
     "data": {
      "application/vnd.jupyter.widget-view+json": {
       "model_id": "8c4fb70dde74432fb23b3f4b32187896",
       "version_major": 2,
       "version_minor": 0
      },
      "text/plain": [
       "  0%|          | 0/391 [00:00<?, ?it/s]"
      ]
     },
     "metadata": {},
     "output_type": "display_data"
    },
    {
     "name": "stdout",
     "output_type": "stream",
     "text": [
      "\t [Batch 50 / 391] Train Loss: 0.318 \t Train Acc: 0.895\n",
      "\t [Batch 100 / 391] Train Loss: 0.317 \t Train Acc: 0.892\n",
      "\t [Batch 150 / 391] Train Loss: 0.322 \t Train Acc: 0.891\n",
      "\t [Batch 200 / 391] Train Loss: 0.320 \t Train Acc: 0.893\n",
      "\t [Batch 250 / 391] Train Loss: 0.333 \t Train Acc: 0.888\n",
      "\t [Batch 300 / 391] Train Loss: 0.337 \t Train Acc: 0.887\n",
      "\t [Batch 350 / 391] Train Loss: 0.339 \t Train Acc: 0.887\n",
      "Epoch 9:\t Train Loss: 0.343 \t Train Acc: 0.887\t Test Acc: 0.783\n",
      "Starting Epoch 10\n"
     ]
    },
    {
     "data": {
      "application/vnd.jupyter.widget-view+json": {
       "model_id": "67610e7eacbf404295ee5cdccdfecfe8",
       "version_major": 2,
       "version_minor": 0
      },
      "text/plain": [
       "  0%|          | 0/391 [00:00<?, ?it/s]"
      ]
     },
     "metadata": {},
     "output_type": "display_data"
    },
    {
     "name": "stdout",
     "output_type": "stream",
     "text": [
      "\t [Batch 50 / 391] Train Loss: 0.238 \t Train Acc: 0.921\n",
      "\t [Batch 100 / 391] Train Loss: 0.247 \t Train Acc: 0.918\n",
      "\t [Batch 150 / 391] Train Loss: 0.278 \t Train Acc: 0.913\n",
      "\t [Batch 200 / 391] Train Loss: 0.271 \t Train Acc: 0.913\n",
      "\t [Batch 250 / 391] Train Loss: 0.264 \t Train Acc: 0.914\n",
      "\t [Batch 300 / 391] Train Loss: 0.273 \t Train Acc: 0.912\n",
      "\t [Batch 350 / 391] Train Loss: 0.275 \t Train Acc: 0.910\n",
      "Epoch 10:\t Train Loss: 0.278 \t Train Acc: 0.909\t Test Acc: 0.776\n",
      "Starting Epoch 11\n"
     ]
    },
    {
     "data": {
      "application/vnd.jupyter.widget-view+json": {
       "model_id": "a264ce7423bb481695b06ba587217dcc",
       "version_major": 2,
       "version_minor": 0
      },
      "text/plain": [
       "  0%|          | 0/391 [00:00<?, ?it/s]"
      ]
     },
     "metadata": {},
     "output_type": "display_data"
    },
    {
     "name": "stdout",
     "output_type": "stream",
     "text": [
      "\t [Batch 50 / 391] Train Loss: 0.155 \t Train Acc: 0.948\n",
      "\t [Batch 100 / 391] Train Loss: 0.188 \t Train Acc: 0.939\n",
      "\t [Batch 150 / 391] Train Loss: 0.218 \t Train Acc: 0.933\n",
      "\t [Batch 200 / 391] Train Loss: 0.212 \t Train Acc: 0.934\n",
      "\t [Batch 250 / 391] Train Loss: 0.211 \t Train Acc: 0.933\n",
      "\t [Batch 300 / 391] Train Loss: 0.219 \t Train Acc: 0.931\n",
      "\t [Batch 350 / 391] Train Loss: 0.218 \t Train Acc: 0.930\n",
      "Epoch 11:\t Train Loss: 0.218 \t Train Acc: 0.930\t Test Acc: 0.783\n",
      "Starting Epoch 12\n"
     ]
    },
    {
     "data": {
      "application/vnd.jupyter.widget-view+json": {
       "model_id": "cc281ebbbb9d47c79c83289f5ea68d35",
       "version_major": 2,
       "version_minor": 0
      },
      "text/plain": [
       "  0%|          | 0/391 [00:00<?, ?it/s]"
      ]
     },
     "metadata": {},
     "output_type": "display_data"
    },
    {
     "name": "stdout",
     "output_type": "stream",
     "text": [
      "\t [Batch 50 / 391] Train Loss: 0.127 \t Train Acc: 0.961\n",
      "\t [Batch 100 / 391] Train Loss: 0.163 \t Train Acc: 0.956\n",
      "\t [Batch 150 / 391] Train Loss: 0.165 \t Train Acc: 0.952\n",
      "\t [Batch 200 / 391] Train Loss: 0.168 \t Train Acc: 0.949\n",
      "\t [Batch 250 / 391] Train Loss: 0.162 \t Train Acc: 0.952\n",
      "\t [Batch 300 / 391] Train Loss: 0.158 \t Train Acc: 0.953\n",
      "\t [Batch 350 / 391] Train Loss: 0.160 \t Train Acc: 0.951\n",
      "Epoch 12:\t Train Loss: 0.162 \t Train Acc: 0.950\t Test Acc: 0.820\n",
      "Starting Epoch 13\n"
     ]
    },
    {
     "data": {
      "application/vnd.jupyter.widget-view+json": {
       "model_id": "8cd5743ff4964d8aa2d972d57bb669e2",
       "version_major": 2,
       "version_minor": 0
      },
      "text/plain": [
       "  0%|          | 0/391 [00:00<?, ?it/s]"
      ]
     },
     "metadata": {},
     "output_type": "display_data"
    },
    {
     "name": "stdout",
     "output_type": "stream",
     "text": [
      "\t [Batch 50 / 391] Train Loss: 0.055 \t Train Acc: 0.985\n",
      "\t [Batch 100 / 391] Train Loss: 0.078 \t Train Acc: 0.979\n",
      "\t [Batch 150 / 391] Train Loss: 0.076 \t Train Acc: 0.979\n",
      "\t [Batch 200 / 391] Train Loss: 0.080 \t Train Acc: 0.978\n",
      "\t [Batch 250 / 391] Train Loss: 0.096 \t Train Acc: 0.975\n",
      "\t [Batch 300 / 391] Train Loss: 0.102 \t Train Acc: 0.973\n",
      "\t [Batch 350 / 391] Train Loss: 0.102 \t Train Acc: 0.973\n",
      "Epoch 13:\t Train Loss: 0.111 \t Train Acc: 0.970\t Test Acc: 0.800\n",
      "Starting Epoch 14\n"
     ]
    },
    {
     "data": {
      "application/vnd.jupyter.widget-view+json": {
       "model_id": "615fddd97ef64b68907948406bb0867d",
       "version_major": 2,
       "version_minor": 0
      },
      "text/plain": [
       "  0%|          | 0/391 [00:00<?, ?it/s]"
      ]
     },
     "metadata": {},
     "output_type": "display_data"
    },
    {
     "name": "stdout",
     "output_type": "stream",
     "text": [
      "\t [Batch 50 / 391] Train Loss: 0.045 \t Train Acc: 0.990\n",
      "\t [Batch 100 / 391] Train Loss: 0.039 \t Train Acc: 0.992\n",
      "\t [Batch 150 / 391] Train Loss: 0.040 \t Train Acc: 0.991\n",
      "\t [Batch 200 / 391] Train Loss: 0.037 \t Train Acc: 0.992\n",
      "\t [Batch 250 / 391] Train Loss: 0.035 \t Train Acc: 0.992\n",
      "\t [Batch 300 / 391] Train Loss: 0.034 \t Train Acc: 0.993\n",
      "\t [Batch 350 / 391] Train Loss: 0.033 \t Train Acc: 0.993\n",
      "Epoch 14:\t Train Loss: 0.033 \t Train Acc: 0.993\t Test Acc: 0.837\n",
      "Starting Epoch 15\n"
     ]
    },
    {
     "data": {
      "application/vnd.jupyter.widget-view+json": {
       "model_id": "bef5364a63504f5caa4bb9df5caec251",
       "version_major": 2,
       "version_minor": 0
      },
      "text/plain": [
       "  0%|          | 0/391 [00:00<?, ?it/s]"
      ]
     },
     "metadata": {},
     "output_type": "display_data"
    },
    {
     "name": "stdout",
     "output_type": "stream",
     "text": [
      "\t [Batch 50 / 391] Train Loss: 0.012 \t Train Acc: 0.999\n",
      "\t [Batch 100 / 391] Train Loss: 0.011 \t Train Acc: 1.000\n",
      "\t [Batch 150 / 391] Train Loss: 0.011 \t Train Acc: 0.999\n",
      "\t [Batch 200 / 391] Train Loss: 0.011 \t Train Acc: 0.999\n",
      "\t [Batch 250 / 391] Train Loss: 0.010 \t Train Acc: 0.999\n",
      "\t [Batch 300 / 391] Train Loss: 0.011 \t Train Acc: 0.999\n",
      "\t [Batch 350 / 391] Train Loss: 0.011 \t Train Acc: 0.999\n",
      "Epoch 15:\t Train Loss: 0.011 \t Train Acc: 0.999\t Test Acc: 0.850\n",
      "Starting Epoch 16\n"
     ]
    },
    {
     "data": {
      "application/vnd.jupyter.widget-view+json": {
       "model_id": "79b84262a3aa4f64b34f9f877c3e7c9a",
       "version_major": 2,
       "version_minor": 0
      },
      "text/plain": [
       "  0%|          | 0/391 [00:00<?, ?it/s]"
      ]
     },
     "metadata": {},
     "output_type": "display_data"
    },
    {
     "name": "stdout",
     "output_type": "stream",
     "text": [
      "\t [Batch 50 / 391] Train Loss: 0.005 \t Train Acc: 1.000\n",
      "\t [Batch 100 / 391] Train Loss: 0.005 \t Train Acc: 1.000\n",
      "\t [Batch 150 / 391] Train Loss: 0.005 \t Train Acc: 1.000\n",
      "\t [Batch 200 / 391] Train Loss: 0.005 \t Train Acc: 1.000\n",
      "\t [Batch 250 / 391] Train Loss: 0.005 \t Train Acc: 1.000\n",
      "\t [Batch 300 / 391] Train Loss: 0.005 \t Train Acc: 1.000\n",
      "\t [Batch 350 / 391] Train Loss: 0.005 \t Train Acc: 1.000\n",
      "Epoch 16:\t Train Loss: 0.005 \t Train Acc: 1.000\t Test Acc: 0.854\n",
      "Starting Epoch 17\n"
     ]
    },
    {
     "data": {
      "application/vnd.jupyter.widget-view+json": {
       "model_id": "11383b16423c47079579841f3b535219",
       "version_major": 2,
       "version_minor": 0
      },
      "text/plain": [
       "  0%|          | 0/391 [00:00<?, ?it/s]"
      ]
     },
     "metadata": {},
     "output_type": "display_data"
    },
    {
     "name": "stdout",
     "output_type": "stream",
     "text": [
      "\t [Batch 50 / 391] Train Loss: 0.003 \t Train Acc: 1.000\n",
      "\t [Batch 100 / 391] Train Loss: 0.003 \t Train Acc: 1.000\n",
      "\t [Batch 150 / 391] Train Loss: 0.003 \t Train Acc: 1.000\n",
      "\t [Batch 200 / 391] Train Loss: 0.003 \t Train Acc: 1.000\n",
      "\t [Batch 250 / 391] Train Loss: 0.003 \t Train Acc: 1.000\n",
      "\t [Batch 300 / 391] Train Loss: 0.003 \t Train Acc: 1.000\n",
      "\t [Batch 350 / 391] Train Loss: 0.003 \t Train Acc: 1.000\n",
      "Epoch 17:\t Train Loss: 0.003 \t Train Acc: 1.000\t Test Acc: 0.855\n",
      "Starting Epoch 18\n"
     ]
    },
    {
     "data": {
      "application/vnd.jupyter.widget-view+json": {
       "model_id": "474c1136083d4866a2002d8439e19f6d",
       "version_major": 2,
       "version_minor": 0
      },
      "text/plain": [
       "  0%|          | 0/391 [00:00<?, ?it/s]"
      ]
     },
     "metadata": {},
     "output_type": "display_data"
    },
    {
     "name": "stdout",
     "output_type": "stream",
     "text": [
      "\t [Batch 50 / 391] Train Loss: 0.003 \t Train Acc: 1.000\n",
      "\t [Batch 100 / 391] Train Loss: 0.002 \t Train Acc: 1.000\n",
      "\t [Batch 150 / 391] Train Loss: 0.002 \t Train Acc: 1.000\n",
      "\t [Batch 200 / 391] Train Loss: 0.002 \t Train Acc: 1.000\n",
      "\t [Batch 250 / 391] Train Loss: 0.002 \t Train Acc: 1.000\n",
      "\t [Batch 300 / 391] Train Loss: 0.002 \t Train Acc: 1.000\n",
      "\t [Batch 350 / 391] Train Loss: 0.002 \t Train Acc: 1.000\n",
      "Epoch 18:\t Train Loss: 0.002 \t Train Acc: 1.000\t Test Acc: 0.856\n",
      "Starting Epoch 19\n"
     ]
    },
    {
     "data": {
      "application/vnd.jupyter.widget-view+json": {
       "model_id": "e5a45d8424d44f458fff4bb0e8170334",
       "version_major": 2,
       "version_minor": 0
      },
      "text/plain": [
       "  0%|          | 0/391 [00:00<?, ?it/s]"
      ]
     },
     "metadata": {},
     "output_type": "display_data"
    },
    {
     "name": "stdout",
     "output_type": "stream",
     "text": [
      "\t [Batch 50 / 391] Train Loss: 0.002 \t Train Acc: 1.000\n",
      "\t [Batch 100 / 391] Train Loss: 0.002 \t Train Acc: 1.000\n",
      "\t [Batch 150 / 391] Train Loss: 0.002 \t Train Acc: 1.000\n",
      "\t [Batch 200 / 391] Train Loss: 0.002 \t Train Acc: 1.000\n",
      "\t [Batch 250 / 391] Train Loss: 0.002 \t Train Acc: 1.000\n",
      "\t [Batch 300 / 391] Train Loss: 0.002 \t Train Acc: 1.000\n",
      "\t [Batch 350 / 391] Train Loss: 0.002 \t Train Acc: 1.000\n",
      "Epoch 19:\t Train Loss: 0.002 \t Train Acc: 1.000\t Test Acc: 0.858\n"
     ]
    }
   ],
   "source": [
    "model = make_cnn()\n",
    "opt = torch.optim.SGD(model.parameters(), lr=0.1)\n",
    "epochs = 20\n",
    "test_scores = []\n",
    "flipped_test_scores = []\n",
    "for i in range(epochs):\n",
    "    print(f'Starting Epoch {i}')\n",
    "    train_loss, train_acc = train_epoch(model, train_dl, opt)\n",
    "    test_loss, test_acc = evaluate(model, test_dl)\n",
    "    flipped_test_loss, flipped_test_acc = evaluate(model, flipped_test_dl)\n",
    "    test_scores.append(test_acc)\n",
    "    flipped_test_scores.append(flipped_test_acc)\n",
    "    print(f'Epoch {i}:\\t Train Loss: {train_loss:.3f} \\t Train Acc: {train_acc:.3f}\\t Test Acc: {test_acc:.3f}')"
   ]
  },
  {
   "cell_type": "markdown",
   "metadata": {},
   "source": [
    "### Flipped images"
   ]
  },
  {
   "cell_type": "markdown",
   "metadata": {},
   "source": [
    "##### Human visualization"
   ]
  },
  {
   "cell_type": "code",
   "execution_count": 46,
   "metadata": {},
   "outputs": [
    {
     "data": {
      "image/png": "[encoded data removed]",
      "text/plain": [
       "<Figure size 1440x720 with 2 Axes>"
      ]
     },
     "metadata": {
      "needs_background": "light"
     },
     "output_type": "display_data"
    }
   ],
   "source": [
    "non_flipped_cat = X_te[Y_te == 3][0]\n",
    "flipped_cat = X_te_flipped[Y_te == 3][0]\n",
    "fig, axes = plt.subplots(1, 2, figsize = (20, 10))\n",
    "axes[0].imshow(flipped_cat.permute((1, 2, 0)))\n",
    "axes[0].set_title('Visualization of a flipped cat')\n",
    "axes[1].imshow(non_flipped_cat.permute((1, 2, 0)))\n",
    "axes[1].set_title('Visualization of a flipped cat')\n",
    "plt.savefig('Flipped_unflipped_cat.png')\n",
    "plt.show(fig)"
   ]
  },
  {
   "cell_type": "markdown",
   "metadata": {},
   "source": [
    "##### Test performances"
   ]
  },
  {
   "cell_type": "code",
   "execution_count": 47,
   "metadata": {},
   "outputs": [
    {
     "name": "stdout",
     "output_type": "stream",
     "text": [
      "3.1374869140625\n",
      "The performances on the flipped test set are  0.416\n"
     ]
    }
   ],
   "source": [
    "test_loss, test_acc = evaluate(model, flipped_test_dl)\n",
    "print(test_loss)\n",
    "print('The performances on the flipped test set are ', test_acc)"
   ]
  },
  {
   "cell_type": "code",
   "execution_count": 55,
   "metadata": {},
   "outputs": [
    {
     "data": {
      "image/png": "[encoded data removed]",
      "text/plain": [
       "<Figure size 1440x720 with 1 Axes>"
      ]
     },
     "metadata": {
      "needs_background": "light"
     },
     "output_type": "display_data"
    }
   ],
   "source": [
    "fig = plt.figure(figsize = (20, 10))\n",
    "plt.plot(test_scores, color= 'lightblue', label='Non-FLipped Test Scores')\n",
    "plt.plot(flipped_test_scores, color='lightcoral', label='Flipped Test Scores')\n",
    "plt.title('Test Accuracy over 20 Epochs')\n",
    "plt.xlabel('Epochs')\n",
    "plt.ylabel('Test Accuracy')\n",
    "plt.legend()\n",
    "plt.savefig('Performances_after_20_epochs.png')\n",
    "plt.show(fig)"
   ]
  },
  {
   "cell_type": "markdown",
   "metadata": {},
   "source": [
    "Let's see what happens when we train our model for several more epochs. What is good with the Cross Entropy training loss, it's that we can keep on trainijng even though our training accuracy is perfect (we deal with probabilities and not with labels)."
   ]
  },
  {
   "cell_type": "code",
   "execution_count": null,
   "metadata": {},
   "outputs": [
    {
     "name": "stdout",
     "output_type": "stream",
     "text": [
      "Starting Epoch 0\n"
     ]
    },
    {
     "data": {
      "application/vnd.jupyter.widget-view+json": {
       "model_id": "8882810f4bec47eb9a4718374c9cbdde",
       "version_major": 2,
       "version_minor": 0
      },
      "text/plain": [
       "  0%|          | 0/391 [00:00<?, ?it/s]"
      ]
     },
     "metadata": {},
     "output_type": "display_data"
    },
    {
     "name": "stdout",
     "output_type": "stream",
     "text": [
      "\t [Batch 50 / 391] Train Loss: 4.791 \t Train Acc: 0.163\n",
      "\t [Batch 100 / 391] Train Loss: 3.453 \t Train Acc: 0.189\n",
      "\t [Batch 150 / 391] Train Loss: 2.966 \t Train Acc: 0.215\n",
      "\t [Batch 200 / 391] Train Loss: 2.696 \t Train Acc: 0.238\n",
      "\t [Batch 250 / 391] Train Loss: 2.520 \t Train Acc: 0.257\n",
      "\t [Batch 300 / 391] Train Loss: 2.389 \t Train Acc: 0.275\n",
      "\t [Batch 350 / 391] Train Loss: 2.285 \t Train Acc: 0.292\n",
      "Epoch 0:\t Train Loss: 2.213 \t Train Acc: 0.305\t Test Acc: 0.408\n",
      "Starting Epoch 1\n"
     ]
    },
    {
     "data": {
      "application/vnd.jupyter.widget-view+json": {
       "model_id": "26ce79b329354ec9889665ae221cf3d9",
       "version_major": 2,
       "version_minor": 0
      },
      "text/plain": [
       "  0%|          | 0/391 [00:00<?, ?it/s]"
      ]
     },
     "metadata": {},
     "output_type": "display_data"
    },
    {
     "name": "stdout",
     "output_type": "stream",
     "text": [
      "\t [Batch 50 / 391] Train Loss: 1.550 \t Train Acc: 0.431\n",
      "\t [Batch 100 / 391] Train Loss: 1.516 \t Train Acc: 0.449\n",
      "\t [Batch 150 / 391] Train Loss: 1.497 \t Train Acc: 0.456\n",
      "\t [Batch 200 / 391] Train Loss: 1.475 \t Train Acc: 0.464\n",
      "\t [Batch 250 / 391] Train Loss: 1.457 \t Train Acc: 0.471\n",
      "\t [Batch 300 / 391] Train Loss: 1.428 \t Train Acc: 0.481\n",
      "\t [Batch 350 / 391] Train Loss: 1.408 \t Train Acc: 0.489\n",
      "Epoch 1:\t Train Loss: 1.391 \t Train Acc: 0.496\t Test Acc: 0.498\n",
      "Starting Epoch 2\n"
     ]
    },
    {
     "data": {
      "application/vnd.jupyter.widget-view+json": {
       "model_id": "53a78696deb144759b044fff301ff4ec",
       "version_major": 2,
       "version_minor": 0
      },
      "text/plain": [
       "  0%|          | 0/391 [00:00<?, ?it/s]"
      ]
     },
     "metadata": {},
     "output_type": "display_data"
    },
    {
     "name": "stdout",
     "output_type": "stream",
     "text": [
      "\t [Batch 50 / 391] Train Loss: 1.227 \t Train Acc: 0.562\n"
     ]
    }
   ],
   "source": [
    "model = make_cnn()\n",
    "opt = torch.optim.SGD(model.parameters(), lr=0.1)\n",
    "epochs = 80\n",
    "test_scores = []\n",
    "flipped_test_scores = []\n",
    "for i in range(epochs):\n",
    "    print(f'Starting Epoch {i}')\n",
    "    train_loss, train_acc = train_epoch(model, train_dl, opt)\n",
    "    test_loss, test_acc = evaluate(model, test_dl)\n",
    "    flipped_test_loss, flipped_test_acc = evaluate(model, flipped_test_dl)\n",
    "    test_scores.append(test_acc)\n",
    "    flipped_test_scores.append(flipped_test_acc)\n",
    "    print(f'Epoch {i}:\\t Train Loss: {train_loss:.3f} \\t Train Acc: {train_acc:.3f}\\t Test Acc: {test_acc:.3f}')\n",
    "fig = plt.figure(figsize = (20, 10))\n",
    "plt.plot(test_scores, color= 'lightblue', label='Non-FLipped Test Scores')\n",
    "plt.plot(flipped_test_scores, color='lightcoral', label='Flipped Test Scores')\n",
    "plt.title('Test Accuracy over 80 Epochs')\n",
    "plt.xlabel('Epochs')\n",
    "plt.ylabel('Test Accuracy')\n",
    "plt.legend()\n",
    "plt.savefig('Performances_after_80_epochs.png')\n",
    "plt.show(fig)"
   ]
  },
  {
   "cell_type": "markdown",
   "metadata": {},
   "source": [
    "##### Test performances over classes, over epochs"
   ]
  },
  {
   "cell_type": "code",
   "execution_count": null,
   "metadata": {},
   "outputs": [],
   "source": [
    "def evaluate_per_class(model, test_dl, loss_func=nn.CrossEntropyLoss().cuda()):\n",
    "    ''' Returns loss, acc per class'''\n",
    "    model.eval()\n",
    "    model.cuda()\n",
    "    nCorrect = 0.0\n",
    "    nTotal = 0\n",
    "    net_loss = 0.0\n",
    "    with torch.no_grad():\n",
    "        for (xb, yb) in test_dl:\n",
    "            xb, yb = xb.cuda(), yb.cuda()\n",
    "            outputs = model(xb)\n",
    "            loss = len(xb) * loss_func(outputs, yb)\n",
    "            _, preds = torch.max(outputs, dim=1)\n",
    "            nCorrect += (preds == yb).float().sum()\n",
    "            net_loss += loss\n",
    "            nTotal += preds.size(0)\n",
    "\n",
    "    acc = nCorrect.cpu().item() / float(nTotal)\n",
    "    loss = net_loss.cpu().item() / float(nTotal)\n",
    "    return loss, acc"
   ]
  }
 ],
 "metadata": {
  "kernelspec": {
   "display_name": "Python 3",
   "language": "python",
   "name": "python3"
  },
  "language_info": {
   "codemirror_mode": {
    "name": "ipython",
    "version": 3
   },
   "file_extension": ".py",
   "mimetype": "text/x-python",
   "name": "python",
   "nbconvert_exporter": "python",
   "pygments_lexer": "ipython3",
   "version": "3.6.8"
  }
 },
 "nbformat": 4,
 "nbformat_minor": 5
}
