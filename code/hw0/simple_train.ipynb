{
 "cells": [
  {
   "cell_type": "code",
   "execution_count": 24,
   "metadata": {},
   "outputs": [
    {
     "name": "stdout",
     "output_type": "stream",
     "text": [
      "Requirement already satisfied: tqdm in /usr/local/lib/python3.6/dist-packages (4.56.0)\n",
      "\u001b[33mWARNING: You are using pip version 19.2.1, however version 21.0 is available.\n",
      "You should consider upgrading via the 'pip install --upgrade pip' command.\u001b[0m\n"
     ]
    }
   ],
   "source": [
    "# install: tqdm (progress bars)\n",
    "!pip install tqdm\n",
    "import torch\n",
    "import torch.nn as nn\n",
    "import numpy as np\n",
    "from tqdm.auto import tqdm\n",
    "from torch.utils.data import DataLoader, Dataset, TensorDataset\n",
    "import torchvision.datasets as ds\n",
    "import matplotlib.pyplot as plt"
   ]
  },
  {
   "cell_type": "markdown",
   "metadata": {},
   "source": [
    "## Load the data (CIFAR-10)"
   ]
  },
  {
   "cell_type": "code",
   "execution_count": 2,
   "metadata": {},
   "outputs": [
    {
     "name": "stderr",
     "output_type": "stream",
     "text": [
      "0it [00:00, ?it/s]"
     ]
    },
    {
     "name": "stdout",
     "output_type": "stream",
     "text": [
      "Downloading https://www.cs.toronto.edu/~kriz/cifar-10-python.tar.gz to ./data_cache/cifar-10-python.tar.gz\n"
     ]
    },
    {
     "name": "stderr",
     "output_type": "stream",
     "text": [
      "100%|█████████▉| 169697280/170498071 [00:12<00:00, 15566759.81it/s]"
     ]
    },
    {
     "name": "stdout",
     "output_type": "stream",
     "text": [
      "Extracting ./data_cache/cifar-10-python.tar.gz to ./data_cache\n",
      "Files already downloaded and verified\n"
     ]
    }
   ],
   "source": [
    "def load_cifar(datadir='./data_cache'): # will download ~400MB of data into this dir. Change the dir if neccesary. If using paperspace, you can make this /storage\n",
    "    train_ds = ds.CIFAR10(root=datadir, train=True,\n",
    "                           download=True, transform=None)\n",
    "    test_ds = ds.CIFAR10(root=datadir, train=False,\n",
    "                          download=True, transform=None)\n",
    "\n",
    "    def to_xy(dataset):\n",
    "        X = torch.Tensor(np.transpose(dataset.data, (0, 3, 1, 2))).float() / 255.0  # [0, 1]\n",
    "        Y = torch.Tensor(np.array(dataset.targets)).long()\n",
    "        return X, Y\n",
    "\n",
    "    X_tr, Y_tr = to_xy(train_ds)\n",
    "    X_te, Y_te = to_xy(test_ds)\n",
    "    return X_tr, Y_tr, X_te, Y_te\n",
    "\n",
    "def make_loader(dataset, batch_size=128):\n",
    "    return torch.utils.data.DataLoader(dataset, batch_size=batch_size,\n",
    "            shuffle=True, num_workers=4, pin_memory=True)\n",
    "\n",
    "X_tr, Y_tr, X_te, Y_te = load_cifar()\n",
    "train_dl = make_loader(TensorDataset(X_tr, Y_tr))\n",
    "test_dl = make_loader(TensorDataset(X_te, Y_te))"
   ]
  },
  {
   "cell_type": "markdown",
   "metadata": {},
   "source": [
    "## Training helper functions"
   ]
  },
  {
   "cell_type": "code",
   "execution_count": 6,
   "metadata": {},
   "outputs": [
    {
     "name": "stderr",
     "output_type": "stream",
     "text": [
      "170500096it [02:13, 1274216.58it/s] \n"
     ]
    }
   ],
   "source": [
    "def train_epoch(model, train_dl : DataLoader, opt, k = 50):\n",
    "    ''' Trains model for one epoch on the provided dataloader, with optimizer opt. Logs stats every k batches.'''\n",
    "    loss_func = nn.CrossEntropyLoss()\n",
    "    model.train()\n",
    "    model.cuda()\n",
    "\n",
    "    netLoss = 0.0\n",
    "    nCorrect = 0\n",
    "    nTotal = 0\n",
    "    for i, (xB, yB) in enumerate(tqdm(train_dl)):\n",
    "        opt.zero_grad()\n",
    "        xB, yB = xB.cuda(), yB.cuda()\n",
    "        outputs = model(xB)\n",
    "        loss = loss_func(outputs, yB)\n",
    "        loss.backward()\n",
    "        opt.step()\n",
    "        netLoss += loss.item() * len(xB)\n",
    "        with torch.no_grad():\n",
    "            _, preds = torch.max(outputs, dim=1)\n",
    "            nCorrect += (preds == yB).float().sum()\n",
    "            nTotal += preds.size(0)\n",
    "        \n",
    "        if (i+1) % k == 0:\n",
    "            train_acc = nCorrect/nTotal\n",
    "            avg_loss = netLoss/nTotal\n",
    "            print(f'\\t [Batch {i+1} / {len(train_dl)}] Train Loss: {avg_loss:.3f} \\t Train Acc: {train_acc:.3f}')\n",
    "  \n",
    "    train_acc = nCorrect/nTotal\n",
    "    avg_loss = netLoss/nTotal\n",
    "    return avg_loss, train_acc\n",
    "\n",
    "\n",
    "def evaluate(model, test_dl, loss_func=nn.CrossEntropyLoss().cuda()):\n",
    "    ''' Returns loss, acc'''\n",
    "    model.eval()\n",
    "    model.cuda()\n",
    "    nCorrect = 0.0\n",
    "    nTotal = 0\n",
    "    net_loss = 0.0\n",
    "    with torch.no_grad():\n",
    "        for (xb, yb) in test_dl:\n",
    "            xb, yb = xb.cuda(), yb.cuda()\n",
    "            outputs = model(xb)\n",
    "            loss = len(xb) * loss_func(outputs, yb)\n",
    "            _, preds = torch.max(outputs, dim=1)\n",
    "            nCorrect += (preds == yb).float().sum()\n",
    "            net_loss += loss\n",
    "            nTotal += preds.size(0)\n",
    "\n",
    "    acc = nCorrect.cpu().item() / float(nTotal)\n",
    "    loss = net_loss.cpu().item() / float(nTotal)\n",
    "    return loss, acc"
   ]
  },
  {
   "cell_type": "code",
   "execution_count": 7,
   "metadata": {},
   "outputs": [],
   "source": [
    "## Define model"
   ]
  },
  {
   "cell_type": "code",
   "execution_count": 9,
   "metadata": {},
   "outputs": [],
   "source": [
    "## 5-Layer CNN for CIFAR\n",
    "## This is the Myrtle5 network by David Page (https://myrtle.ai/learn/how-to-train-your-resnet-4-architecture/)\n",
    "\n",
    "class Flatten(nn.Module):\n",
    "    def forward(self, x): return x.view(x.size(0), x.size(1))\n",
    "\n",
    "def make_cnn(c=64, num_classes=10):\n",
    "    ''' Returns a 5-layer CNN with width parameter c. '''\n",
    "    return nn.Sequential(\n",
    "        # Layer 0\n",
    "        nn.Conv2d(3, c, kernel_size=3, stride=1,\n",
    "                  padding=1, bias=True),\n",
    "        nn.BatchNorm2d(c),\n",
    "        nn.ReLU(),\n",
    "\n",
    "        # Layer 1\n",
    "        nn.Conv2d(c, c*2, kernel_size=3,\n",
    "                  stride=1, padding=1, bias=True),\n",
    "        nn.BatchNorm2d(c*2),\n",
    "        nn.ReLU(),\n",
    "        nn.MaxPool2d(2),\n",
    "\n",
    "        # Layer 2\n",
    "        nn.Conv2d(c*2, c*4, kernel_size=3,\n",
    "                  stride=1, padding=1, bias=True),\n",
    "        nn.BatchNorm2d(c*4),\n",
    "        nn.ReLU(),\n",
    "        nn.MaxPool2d(2),\n",
    "\n",
    "        # Layer 3\n",
    "        nn.Conv2d(c*4, c*8, kernel_size=3,\n",
    "                  stride=1, padding=1, bias=True),\n",
    "        nn.BatchNorm2d(c*8),\n",
    "        nn.ReLU(),\n",
    "        nn.MaxPool2d(2),\n",
    "\n",
    "        # Layer 4\n",
    "        nn.MaxPool2d(4),\n",
    "        Flatten(),\n",
    "        nn.Linear(c*8, num_classes, bias=True)\n",
    "    )"
   ]
  },
  {
   "cell_type": "code",
   "execution_count": 9,
   "metadata": {},
   "outputs": [],
   "source": [
    "## Train"
   ]
  },
  {
   "cell_type": "code",
   "execution_count": 10,
   "metadata": {},
   "outputs": [
    {
     "name": "stdout",
     "output_type": "stream",
     "text": [
      "Starting Epoch 0\n"
     ]
    },
    {
     "data": {
      "application/vnd.jupyter.widget-view+json": {
       "model_id": "a81727d0e5114c1eb48748bbfe1a9f6a",
       "version_major": 2,
       "version_minor": 0
      },
      "text/plain": [
       "  0%|          | 0/391 [00:00<?, ?it/s]"
      ]
     },
     "metadata": {},
     "output_type": "display_data"
    },
    {
     "name": "stdout",
     "output_type": "stream",
     "text": [
      "\t [Batch 50 / 391] Train Loss: 5.572 \t Train Acc: 0.156\n",
      "\t [Batch 100 / 391] Train Loss: 3.926 \t Train Acc: 0.175\n",
      "\t [Batch 150 / 391] Train Loss: 3.331 \t Train Acc: 0.195\n",
      "\t [Batch 200 / 391] Train Loss: 3.009 \t Train Acc: 0.211\n",
      "\t [Batch 250 / 391] Train Loss: 2.788 \t Train Acc: 0.227\n",
      "\t [Batch 300 / 391] Train Loss: 2.627 \t Train Acc: 0.243\n",
      "\t [Batch 350 / 391] Train Loss: 2.503 \t Train Acc: 0.258\n",
      "Epoch 0:\t Train Loss: 2.420 \t Train Acc: 0.270\t Test Acc: 0.308\n",
      "Starting Epoch 1\n"
     ]
    },
    {
     "data": {
      "application/vnd.jupyter.widget-view+json": {
       "model_id": "02b33df94b0746c0ae43886b7a79e1ef",
       "version_major": 2,
       "version_minor": 0
      },
      "text/plain": [
       "  0%|          | 0/391 [00:00<?, ?it/s]"
      ]
     },
     "metadata": {},
     "output_type": "display_data"
    },
    {
     "name": "stdout",
     "output_type": "stream",
     "text": [
      "\t [Batch 50 / 391] Train Loss: 1.597 \t Train Acc: 0.408\n",
      "\t [Batch 100 / 391] Train Loss: 1.592 \t Train Acc: 0.412\n",
      "\t [Batch 150 / 391] Train Loss: 1.575 \t Train Acc: 0.418\n",
      "\t [Batch 200 / 391] Train Loss: 1.552 \t Train Acc: 0.427\n",
      "\t [Batch 250 / 391] Train Loss: 1.529 \t Train Acc: 0.437\n",
      "\t [Batch 300 / 391] Train Loss: 1.506 \t Train Acc: 0.446\n",
      "\t [Batch 350 / 391] Train Loss: 1.480 \t Train Acc: 0.459\n",
      "Epoch 1:\t Train Loss: 1.466 \t Train Acc: 0.465\t Test Acc: 0.193\n",
      "Starting Epoch 2\n"
     ]
    },
    {
     "data": {
      "application/vnd.jupyter.widget-view+json": {
       "model_id": "fc9e1284eb2041068bf00a902729e3fb",
       "version_major": 2,
       "version_minor": 0
      },
      "text/plain": [
       "  0%|          | 0/391 [00:00<?, ?it/s]"
      ]
     },
     "metadata": {},
     "output_type": "display_data"
    },
    {
     "name": "stdout",
     "output_type": "stream",
     "text": [
      "\t [Batch 50 / 391] Train Loss: 1.306 \t Train Acc: 0.527\n",
      "\t [Batch 100 / 391] Train Loss: 1.274 \t Train Acc: 0.541\n",
      "\t [Batch 150 / 391] Train Loss: 1.263 \t Train Acc: 0.546\n",
      "\t [Batch 200 / 391] Train Loss: 1.244 \t Train Acc: 0.553\n",
      "\t [Batch 250 / 391] Train Loss: 1.233 \t Train Acc: 0.559\n",
      "\t [Batch 300 / 391] Train Loss: 1.216 \t Train Acc: 0.566\n",
      "\t [Batch 350 / 391] Train Loss: 1.202 \t Train Acc: 0.570\n",
      "Epoch 2:\t Train Loss: 1.192 \t Train Acc: 0.575\t Test Acc: 0.459\n",
      "Starting Epoch 3\n"
     ]
    },
    {
     "data": {
      "application/vnd.jupyter.widget-view+json": {
       "model_id": "89bcacd3fd234dfb8bb1530aec7daad3",
       "version_major": 2,
       "version_minor": 0
      },
      "text/plain": [
       "  0%|          | 0/391 [00:00<?, ?it/s]"
      ]
     },
     "metadata": {},
     "output_type": "display_data"
    },
    {
     "name": "stdout",
     "output_type": "stream",
     "text": [
      "\t [Batch 50 / 391] Train Loss: 1.074 \t Train Acc: 0.612\n",
      "\t [Batch 100 / 391] Train Loss: 1.051 \t Train Acc: 0.626\n",
      "\t [Batch 150 / 391] Train Loss: 1.042 \t Train Acc: 0.629\n",
      "\t [Batch 200 / 391] Train Loss: 1.036 \t Train Acc: 0.631\n",
      "\t [Batch 250 / 391] Train Loss: 1.026 \t Train Acc: 0.636\n",
      "\t [Batch 300 / 391] Train Loss: 1.012 \t Train Acc: 0.642\n",
      "\t [Batch 350 / 391] Train Loss: 1.005 \t Train Acc: 0.644\n",
      "Epoch 3:\t Train Loss: 0.999 \t Train Acc: 0.647\t Test Acc: 0.651\n",
      "Starting Epoch 4\n"
     ]
    },
    {
     "data": {
      "application/vnd.jupyter.widget-view+json": {
       "model_id": "29e2d21066a540be83076c1460855f0d",
       "version_major": 2,
       "version_minor": 0
      },
      "text/plain": [
       "  0%|          | 0/391 [00:00<?, ?it/s]"
      ]
     },
     "metadata": {},
     "output_type": "display_data"
    },
    {
     "name": "stdout",
     "output_type": "stream",
     "text": [
      "\t [Batch 50 / 391] Train Loss: 0.888 \t Train Acc: 0.693\n",
      "\t [Batch 100 / 391] Train Loss: 0.880 \t Train Acc: 0.697\n",
      "\t [Batch 150 / 391] Train Loss: 0.883 \t Train Acc: 0.693\n",
      "\t [Batch 200 / 391] Train Loss: 0.879 \t Train Acc: 0.695\n",
      "\t [Batch 250 / 391] Train Loss: 0.875 \t Train Acc: 0.697\n",
      "\t [Batch 300 / 391] Train Loss: 0.868 \t Train Acc: 0.699\n",
      "\t [Batch 350 / 391] Train Loss: 0.860 \t Train Acc: 0.701\n",
      "Epoch 4:\t Train Loss: 0.853 \t Train Acc: 0.704\t Test Acc: 0.614\n",
      "Starting Epoch 5\n"
     ]
    },
    {
     "data": {
      "application/vnd.jupyter.widget-view+json": {
       "model_id": "3bb1163eddf04336990105bc0d8be1df",
       "version_major": 2,
       "version_minor": 0
      },
      "text/plain": [
       "  0%|          | 0/391 [00:00<?, ?it/s]"
      ]
     },
     "metadata": {},
     "output_type": "display_data"
    },
    {
     "name": "stdout",
     "output_type": "stream",
     "text": [
      "\t [Batch 50 / 391] Train Loss: 0.763 \t Train Acc: 0.734\n",
      "\t [Batch 100 / 391] Train Loss: 0.780 \t Train Acc: 0.730\n",
      "\t [Batch 150 / 391] Train Loss: 0.777 \t Train Acc: 0.730\n",
      "\t [Batch 200 / 391] Train Loss: 0.769 \t Train Acc: 0.734\n",
      "\t [Batch 250 / 391] Train Loss: 0.759 \t Train Acc: 0.736\n",
      "\t [Batch 300 / 391] Train Loss: 0.752 \t Train Acc: 0.739\n",
      "\t [Batch 350 / 391] Train Loss: 0.751 \t Train Acc: 0.741\n",
      "Epoch 5:\t Train Loss: 0.743 \t Train Acc: 0.744\t Test Acc: 0.740\n",
      "Starting Epoch 6\n"
     ]
    },
    {
     "data": {
      "application/vnd.jupyter.widget-view+json": {
       "model_id": "fe148a21c2044545b797f81522980bd6",
       "version_major": 2,
       "version_minor": 0
      },
      "text/plain": [
       "  0%|          | 0/391 [00:00<?, ?it/s]"
      ]
     },
     "metadata": {},
     "output_type": "display_data"
    },
    {
     "name": "stdout",
     "output_type": "stream",
     "text": [
      "\t [Batch 50 / 391] Train Loss: 0.650 \t Train Acc: 0.781\n",
      "\t [Batch 100 / 391] Train Loss: 0.657 \t Train Acc: 0.776\n",
      "\t [Batch 150 / 391] Train Loss: 0.651 \t Train Acc: 0.777\n",
      "\t [Batch 200 / 391] Train Loss: 0.643 \t Train Acc: 0.779\n",
      "\t [Batch 250 / 391] Train Loss: 0.647 \t Train Acc: 0.777\n",
      "\t [Batch 300 / 391] Train Loss: 0.642 \t Train Acc: 0.779\n",
      "\t [Batch 350 / 391] Train Loss: 0.641 \t Train Acc: 0.779\n",
      "Epoch 6:\t Train Loss: 0.644 \t Train Acc: 0.778\t Test Acc: 0.744\n",
      "Starting Epoch 7\n"
     ]
    },
    {
     "data": {
      "application/vnd.jupyter.widget-view+json": {
       "model_id": "fa82ac10f1174f49b8da9e4d2effab28",
       "version_major": 2,
       "version_minor": 0
      },
      "text/plain": [
       "  0%|          | 0/391 [00:00<?, ?it/s]"
      ]
     },
     "metadata": {},
     "output_type": "display_data"
    },
    {
     "name": "stdout",
     "output_type": "stream",
     "text": [
      "\t [Batch 50 / 391] Train Loss: 0.577 \t Train Acc: 0.803\n",
      "\t [Batch 100 / 391] Train Loss: 0.565 \t Train Acc: 0.804\n",
      "\t [Batch 150 / 391] Train Loss: 0.569 \t Train Acc: 0.805\n",
      "\t [Batch 200 / 391] Train Loss: 0.570 \t Train Acc: 0.805\n",
      "\t [Batch 250 / 391] Train Loss: 0.569 \t Train Acc: 0.805\n",
      "\t [Batch 300 / 391] Train Loss: 0.570 \t Train Acc: 0.805\n",
      "\t [Batch 350 / 391] Train Loss: 0.574 \t Train Acc: 0.804\n",
      "Epoch 7:\t Train Loss: 0.572 \t Train Acc: 0.805\t Test Acc: 0.764\n",
      "Starting Epoch 8\n"
     ]
    },
    {
     "data": {
      "application/vnd.jupyter.widget-view+json": {
       "model_id": "f1ea51301eca403ba919591c9445f2a7",
       "version_major": 2,
       "version_minor": 0
      },
      "text/plain": [
       "  0%|          | 0/391 [00:00<?, ?it/s]"
      ]
     },
     "metadata": {},
     "output_type": "display_data"
    },
    {
     "name": "stdout",
     "output_type": "stream",
     "text": [
      "\t [Batch 50 / 391] Train Loss: 0.472 \t Train Acc: 0.837\n",
      "\t [Batch 100 / 391] Train Loss: 0.488 \t Train Acc: 0.832\n",
      "\t [Batch 150 / 391] Train Loss: 0.497 \t Train Acc: 0.828\n",
      "\t [Batch 200 / 391] Train Loss: 0.494 \t Train Acc: 0.829\n",
      "\t [Batch 250 / 391] Train Loss: 0.488 \t Train Acc: 0.832\n",
      "\t [Batch 300 / 391] Train Loss: 0.488 \t Train Acc: 0.833\n",
      "\t [Batch 350 / 391] Train Loss: 0.492 \t Train Acc: 0.832\n",
      "Epoch 8:\t Train Loss: 0.492 \t Train Acc: 0.831\t Test Acc: 0.706\n",
      "Starting Epoch 9\n"
     ]
    },
    {
     "data": {
      "application/vnd.jupyter.widget-view+json": {
       "model_id": "371e8b7c4bb34e48abffb22af8617b99",
       "version_major": 2,
       "version_minor": 0
      },
      "text/plain": [
       "  0%|          | 0/391 [00:00<?, ?it/s]"
      ]
     },
     "metadata": {},
     "output_type": "display_data"
    },
    {
     "name": "stdout",
     "output_type": "stream",
     "text": [
      "\t [Batch 50 / 391] Train Loss: 0.400 \t Train Acc: 0.868\n",
      "\t [Batch 100 / 391] Train Loss: 0.414 \t Train Acc: 0.861\n",
      "\t [Batch 150 / 391] Train Loss: 0.406 \t Train Acc: 0.863\n",
      "\t [Batch 200 / 391] Train Loss: 0.410 \t Train Acc: 0.862\n",
      "\t [Batch 250 / 391] Train Loss: 0.423 \t Train Acc: 0.859\n",
      "\t [Batch 300 / 391] Train Loss: 0.424 \t Train Acc: 0.858\n",
      "\t [Batch 350 / 391] Train Loss: 0.428 \t Train Acc: 0.857\n",
      "Epoch 9:\t Train Loss: 0.433 \t Train Acc: 0.854\t Test Acc: 0.752\n",
      "Starting Epoch 10\n"
     ]
    },
    {
     "data": {
      "application/vnd.jupyter.widget-view+json": {
       "model_id": "724d986afac04dccbff9d0d4a1a88b43",
       "version_major": 2,
       "version_minor": 0
      },
      "text/plain": [
       "  0%|          | 0/391 [00:00<?, ?it/s]"
      ]
     },
     "metadata": {},
     "output_type": "display_data"
    },
    {
     "name": "stdout",
     "output_type": "stream",
     "text": [
      "\t [Batch 50 / 391] Train Loss: 0.340 \t Train Acc: 0.885\n",
      "\t [Batch 100 / 391] Train Loss: 0.368 \t Train Acc: 0.881\n",
      "\t [Batch 150 / 391] Train Loss: 0.366 \t Train Acc: 0.880\n",
      "\t [Batch 200 / 391] Train Loss: 0.361 \t Train Acc: 0.881\n",
      "\t [Batch 250 / 391] Train Loss: 0.358 \t Train Acc: 0.881\n",
      "\t [Batch 300 / 391] Train Loss: 0.362 \t Train Acc: 0.880\n",
      "\t [Batch 350 / 391] Train Loss: 0.370 \t Train Acc: 0.877\n",
      "Epoch 10:\t Train Loss: 0.371 \t Train Acc: 0.877\t Test Acc: 0.782\n",
      "Starting Epoch 11\n"
     ]
    },
    {
     "data": {
      "application/vnd.jupyter.widget-view+json": {
       "model_id": "f425a63a07824aa0831eace8f5eaf5e9",
       "version_major": 2,
       "version_minor": 0
      },
      "text/plain": [
       "  0%|          | 0/391 [00:00<?, ?it/s]"
      ]
     },
     "metadata": {},
     "output_type": "display_data"
    },
    {
     "name": "stdout",
     "output_type": "stream",
     "text": [
      "\t [Batch 50 / 391] Train Loss: 0.277 \t Train Acc: 0.908\n",
      "\t [Batch 100 / 391] Train Loss: 0.299 \t Train Acc: 0.905\n",
      "\t [Batch 150 / 391] Train Loss: 0.342 \t Train Acc: 0.898\n",
      "\t [Batch 200 / 391] Train Loss: 0.330 \t Train Acc: 0.898\n",
      "\t [Batch 250 / 391] Train Loss: 0.323 \t Train Acc: 0.899\n",
      "\t [Batch 300 / 391] Train Loss: 0.321 \t Train Acc: 0.898\n",
      "\t [Batch 350 / 391] Train Loss: 0.322 \t Train Acc: 0.897\n",
      "Epoch 11:\t Train Loss: 0.324 \t Train Acc: 0.896\t Test Acc: 0.791\n",
      "Starting Epoch 12\n"
     ]
    },
    {
     "data": {
      "application/vnd.jupyter.widget-view+json": {
       "model_id": "522cb41f5a074ebbaa6575c309558bc5",
       "version_major": 2,
       "version_minor": 0
      },
      "text/plain": [
       "  0%|          | 0/391 [00:00<?, ?it/s]"
      ]
     },
     "metadata": {},
     "output_type": "display_data"
    },
    {
     "name": "stdout",
     "output_type": "stream",
     "text": [
      "\t [Batch 50 / 391] Train Loss: 0.218 \t Train Acc: 0.928\n",
      "\t [Batch 100 / 391] Train Loss: 0.239 \t Train Acc: 0.922\n",
      "\t [Batch 150 / 391] Train Loss: 0.240 \t Train Acc: 0.921\n",
      "\t [Batch 200 / 391] Train Loss: 0.238 \t Train Acc: 0.921\n",
      "\t [Batch 250 / 391] Train Loss: 0.252 \t Train Acc: 0.920\n",
      "\t [Batch 300 / 391] Train Loss: 0.251 \t Train Acc: 0.919\n",
      "\t [Batch 350 / 391] Train Loss: 0.263 \t Train Acc: 0.916\n",
      "Epoch 12:\t Train Loss: 0.262 \t Train Acc: 0.916\t Test Acc: 0.799\n",
      "Starting Epoch 13\n"
     ]
    },
    {
     "data": {
      "application/vnd.jupyter.widget-view+json": {
       "model_id": "51c831f2202c4f41bc2413cfee453f65",
       "version_major": 2,
       "version_minor": 0
      },
      "text/plain": [
       "  0%|          | 0/391 [00:00<?, ?it/s]"
      ]
     },
     "metadata": {},
     "output_type": "display_data"
    },
    {
     "name": "stdout",
     "output_type": "stream",
     "text": [
      "\t [Batch 50 / 391] Train Loss: 0.134 \t Train Acc: 0.956\n",
      "\t [Batch 100 / 391] Train Loss: 0.140 \t Train Acc: 0.955\n",
      "\t [Batch 150 / 391] Train Loss: 0.161 \t Train Acc: 0.948\n",
      "\t [Batch 200 / 391] Train Loss: 0.171 \t Train Acc: 0.945\n",
      "\t [Batch 250 / 391] Train Loss: 0.171 \t Train Acc: 0.945\n",
      "\t [Batch 300 / 391] Train Loss: 0.181 \t Train Acc: 0.943\n",
      "\t [Batch 350 / 391] Train Loss: 0.190 \t Train Acc: 0.940\n",
      "Epoch 13:\t Train Loss: 0.191 \t Train Acc: 0.940\t Test Acc: 0.817\n",
      "Starting Epoch 14\n"
     ]
    },
    {
     "data": {
      "application/vnd.jupyter.widget-view+json": {
       "model_id": "ad9d6eb9ce414d4d9d588b513bcf6e22",
       "version_major": 2,
       "version_minor": 0
      },
      "text/plain": [
       "  0%|          | 0/391 [00:00<?, ?it/s]"
      ]
     },
     "metadata": {},
     "output_type": "display_data"
    },
    {
     "name": "stdout",
     "output_type": "stream",
     "text": [
      "\t [Batch 50 / 391] Train Loss: 0.087 \t Train Acc: 0.975\n",
      "\t [Batch 100 / 391] Train Loss: 0.082 \t Train Acc: 0.977\n",
      "\t [Batch 150 / 391] Train Loss: 0.104 \t Train Acc: 0.969\n",
      "\t [Batch 200 / 391] Train Loss: 0.109 \t Train Acc: 0.968\n",
      "\t [Batch 250 / 391] Train Loss: 0.132 \t Train Acc: 0.965\n",
      "\t [Batch 300 / 391] Train Loss: 0.128 \t Train Acc: 0.965\n",
      "\t [Batch 350 / 391] Train Loss: 0.140 \t Train Acc: 0.962\n",
      "Epoch 14:\t Train Loss: 0.138 \t Train Acc: 0.962\t Test Acc: 0.770\n",
      "Starting Epoch 15\n"
     ]
    },
    {
     "data": {
      "application/vnd.jupyter.widget-view+json": {
       "model_id": "408910fff76542c089757713553324ee",
       "version_major": 2,
       "version_minor": 0
      },
      "text/plain": [
       "  0%|          | 0/391 [00:00<?, ?it/s]"
      ]
     },
     "metadata": {},
     "output_type": "display_data"
    },
    {
     "name": "stdout",
     "output_type": "stream",
     "text": [
      "\t [Batch 50 / 391] Train Loss: 0.051 \t Train Acc: 0.987\n",
      "\t [Batch 100 / 391] Train Loss: 0.045 \t Train Acc: 0.990\n",
      "\t [Batch 150 / 391] Train Loss: 0.043 \t Train Acc: 0.990\n",
      "\t [Batch 200 / 391] Train Loss: 0.042 \t Train Acc: 0.990\n",
      "\t [Batch 250 / 391] Train Loss: 0.070 \t Train Acc: 0.984\n",
      "\t [Batch 300 / 391] Train Loss: 0.070 \t Train Acc: 0.983\n",
      "\t [Batch 350 / 391] Train Loss: 0.073 \t Train Acc: 0.982\n",
      "Epoch 15:\t Train Loss: 0.083 \t Train Acc: 0.980\t Test Acc: 0.787\n",
      "Starting Epoch 16\n"
     ]
    },
    {
     "data": {
      "application/vnd.jupyter.widget-view+json": {
       "model_id": "1bf38387c46e40498bfc8c331b0506c0",
       "version_major": 2,
       "version_minor": 0
      },
      "text/plain": [
       "  0%|          | 0/391 [00:00<?, ?it/s]"
      ]
     },
     "metadata": {},
     "output_type": "display_data"
    },
    {
     "name": "stdout",
     "output_type": "stream",
     "text": [
      "\t [Batch 50 / 391] Train Loss: 0.031 \t Train Acc: 0.995\n",
      "\t [Batch 100 / 391] Train Loss: 0.026 \t Train Acc: 0.997\n",
      "\t [Batch 150 / 391] Train Loss: 0.024 \t Train Acc: 0.997\n",
      "\t [Batch 200 / 391] Train Loss: 0.023 \t Train Acc: 0.997\n",
      "\t [Batch 250 / 391] Train Loss: 0.023 \t Train Acc: 0.997\n",
      "\t [Batch 300 / 391] Train Loss: 0.023 \t Train Acc: 0.997\n",
      "\t [Batch 350 / 391] Train Loss: 0.023 \t Train Acc: 0.997\n",
      "Epoch 16:\t Train Loss: 0.022 \t Train Acc: 0.997\t Test Acc: 0.855\n",
      "Starting Epoch 17\n"
     ]
    },
    {
     "data": {
      "application/vnd.jupyter.widget-view+json": {
       "model_id": "bcc628852e394c7790b6beba23377515",
       "version_major": 2,
       "version_minor": 0
      },
      "text/plain": [
       "  0%|          | 0/391 [00:00<?, ?it/s]"
      ]
     },
     "metadata": {},
     "output_type": "display_data"
    },
    {
     "name": "stdout",
     "output_type": "stream",
     "text": [
      "\t [Batch 50 / 391] Train Loss: 0.008 \t Train Acc: 1.000\n",
      "\t [Batch 100 / 391] Train Loss: 0.008 \t Train Acc: 1.000\n",
      "\t [Batch 150 / 391] Train Loss: 0.008 \t Train Acc: 1.000\n",
      "\t [Batch 200 / 391] Train Loss: 0.008 \t Train Acc: 1.000\n",
      "\t [Batch 250 / 391] Train Loss: 0.008 \t Train Acc: 1.000\n",
      "\t [Batch 300 / 391] Train Loss: 0.008 \t Train Acc: 1.000\n",
      "\t [Batch 350 / 391] Train Loss: 0.008 \t Train Acc: 1.000\n",
      "Epoch 17:\t Train Loss: 0.008 \t Train Acc: 0.999\t Test Acc: 0.851\n",
      "Starting Epoch 18\n"
     ]
    },
    {
     "data": {
      "application/vnd.jupyter.widget-view+json": {
       "model_id": "dc1ea35f18674370888129d1f033bc5c",
       "version_major": 2,
       "version_minor": 0
      },
      "text/plain": [
       "  0%|          | 0/391 [00:00<?, ?it/s]"
      ]
     },
     "metadata": {},
     "output_type": "display_data"
    },
    {
     "name": "stdout",
     "output_type": "stream",
     "text": [
      "\t [Batch 50 / 391] Train Loss: 0.005 \t Train Acc: 1.000\n",
      "\t [Batch 100 / 391] Train Loss: 0.005 \t Train Acc: 1.000\n",
      "\t [Batch 150 / 391] Train Loss: 0.005 \t Train Acc: 1.000\n",
      "\t [Batch 200 / 391] Train Loss: 0.005 \t Train Acc: 1.000\n",
      "\t [Batch 250 / 391] Train Loss: 0.004 \t Train Acc: 1.000\n",
      "\t [Batch 300 / 391] Train Loss: 0.004 \t Train Acc: 1.000\n",
      "\t [Batch 350 / 391] Train Loss: 0.004 \t Train Acc: 1.000\n",
      "Epoch 18:\t Train Loss: 0.004 \t Train Acc: 1.000\t Test Acc: 0.857\n",
      "Starting Epoch 19\n"
     ]
    },
    {
     "data": {
      "application/vnd.jupyter.widget-view+json": {
       "model_id": "1b7a586fd729430b84d084b78562235c",
       "version_major": 2,
       "version_minor": 0
      },
      "text/plain": [
       "  0%|          | 0/391 [00:00<?, ?it/s]"
      ]
     },
     "metadata": {},
     "output_type": "display_data"
    },
    {
     "name": "stdout",
     "output_type": "stream",
     "text": [
      "\t [Batch 50 / 391] Train Loss: 0.003 \t Train Acc: 1.000\n",
      "\t [Batch 100 / 391] Train Loss: 0.003 \t Train Acc: 1.000\n",
      "\t [Batch 150 / 391] Train Loss: 0.003 \t Train Acc: 1.000\n",
      "\t [Batch 200 / 391] Train Loss: 0.003 \t Train Acc: 1.000\n",
      "\t [Batch 250 / 391] Train Loss: 0.003 \t Train Acc: 1.000\n",
      "\t [Batch 300 / 391] Train Loss: 0.003 \t Train Acc: 1.000\n",
      "\t [Batch 350 / 391] Train Loss: 0.003 \t Train Acc: 1.000\n",
      "Epoch 19:\t Train Loss: 0.003 \t Train Acc: 1.000\t Test Acc: 0.859\n"
     ]
    }
   ],
   "source": [
    "model = make_cnn()\n",
    "opt = torch.optim.SGD(model.parameters(), lr=0.1)\n",
    "epochs = 20\n",
    "for i in range(epochs):\n",
    "    print(f'Starting Epoch {i}')\n",
    "    train_loss, train_acc = train_epoch(model, train_dl, opt)\n",
    "    test_loss, test_acc = evaluate(model, test_dl)\n",
    "    \n",
    "    print(f'Epoch {i}:\\t Train Loss: {train_loss:.3f} \\t Train Acc: {train_acc:.3f}\\t Test Acc: {test_acc:.3f}')"
   ]
  },
  {
   "cell_type": "markdown",
   "metadata": {},
   "source": [
    "### Flipped images"
   ]
  },
  {
   "cell_type": "code",
   "execution_count": 39,
   "metadata": {},
   "outputs": [
    {
     "data": {
      "image/png": "[encoded data removed]",
      "text/plain": [
       "<Figure size 1440x720 with 2 Axes>"
      ]
     },
     "metadata": {
      "needs_background": "light"
     },
     "output_type": "display_data"
    }
   ],
   "source": [
    "X_te_flipped = torch.flip(X_te, [2, 3])\n",
    "non_flipped_cat = X_te[Y_te == 3][0]\n",
    "flipped_cat = X_te_flipped[Y_te == 3][0]\n",
    "fig, axes = plt.subplots(1, 2, figsize = (20, 10))\n",
    "axes[0].imshow(flipped_cat.permute((1, 2, 0)))\n",
    "axes[0].set_title('Visualization of a flipped cat')\n",
    "axes[1].imshow(non_flipped_cat.permute((1, 2, 0)))\n",
    "axes[1].set_title('Visualization of a flipped cat')\n",
    "plt.show(fig)"
   ]
  }
 ],
 "metadata": {
  "kernelspec": {
   "display_name": "Python 3",
   "language": "python",
   "name": "python3"
  },
  "language_info": {
   "codemirror_mode": {
    "name": "ipython",
    "version": 3
   },
   "file_extension": ".py",
   "mimetype": "text/x-python",
   "name": "python",
   "nbconvert_exporter": "python",
   "pygments_lexer": "ipython3",
   "version": "3.6.8"
  }
 },
 "nbformat": 4,
 "nbformat_minor": 5
}
