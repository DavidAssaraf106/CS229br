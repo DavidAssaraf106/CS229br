{
 "cells": [
  {
   "cell_type": "code",
   "execution_count": 1,
   "id": "brilliant-atlanta",
   "metadata": {},
   "outputs": [],
   "source": [
    "import torch\n",
    "import torch.nn as nn\n",
    "import numpy as np\n",
    "from torch.utils.data import DataLoader, Dataset, TensorDataset\n",
    "import torchvision.datasets as ds\n",
    "import pylab as plt"
   ]
  },
  {
   "cell_type": "code",
   "execution_count": 2,
   "id": "deadly-march",
   "metadata": {},
   "outputs": [],
   "source": [
    "def load_mnist(datadir='./data_cache'):\n",
    "    train_ds = ds.MNIST(root=datadir, train=True,\n",
    "                           download=True, transform=None)\n",
    "    test_ds = ds.MNIST(root=datadir, train=False,\n",
    "                          download=True, transform=None)\n",
    "\n",
    "    def to_xy(dataset):\n",
    "        X = np.array(dataset.data) / 255.0  # [0, 1]\n",
    "        Y = np.array(dataset.targets)\n",
    "        return X, Y\n",
    "\n",
    "    X_tr, Y_tr = to_xy(train_ds)\n",
    "    X_te, Y_te = to_xy(test_ds)\n",
    "    return X_tr, Y_tr, X_te, Y_te\n",
    "\n",
    "X_tr, Y_tr, X_te, Y_te = load_mnist()"
   ]
  },
  {
   "cell_type": "code",
   "execution_count": 10,
   "id": "signal-deviation",
   "metadata": {},
   "outputs": [
    {
     "data": {
      "image/png": "[encoded data removed]",
      "text/plain": [
       "<Figure size 432x288 with 1 Axes>"
      ]
     },
     "metadata": {
      "needs_background": "light"
     },
     "output_type": "display_data"
    }
   ],
   "source": [
    "i = np.random.choice(len(X_tr))\n",
    "plt.imshow(X_tr[i], cmap='gray');\n",
    "plt.title(f'digit: {Y_tr[i]}');"
   ]
  },
  {
   "cell_type": "markdown",
   "id": "tropical-breach",
   "metadata": {},
   "source": [
    "## Linear Regression"
   ]
  },
  {
   "cell_type": "code",
   "execution_count": 27,
   "id": "finnish-binding",
   "metadata": {},
   "outputs": [
    {
     "name": "stdout",
     "output_type": "stream",
     "text": [
      "original X_tr: (60000, 28, 28)\n",
      "reshaped X: (300, 784)\n",
      "reshaped Y: (300,)\n"
     ]
    }
   ],
   "source": [
    "print('original X_tr:', X_tr.shape)\n",
    "\n",
    "# select 300 random examples\n",
    "n = 300\n",
    "I = np.random.choice(len(X_tr), n, replace=False)\n",
    "X = X_tr[I]\n",
    "Y = (Y_tr[I] % 2) * 2.0 - 1 # odd/even --> +1/-1\n",
    "X = X.reshape(-1,  28*28) # flatten\n",
    "\n",
    "print('reshaped X:', X.shape)\n",
    "print('reshaped Y:', Y.shape)"
   ]
  },
  {
   "cell_type": "markdown",
   "id": "pharmaceutical-bangkok",
   "metadata": {},
   "source": [
    "Now solve:\n",
    "$$\\text{argmin}_\\beta ||X \\beta - Y||_2$$\n",
    "for $\\beta \\in \\mathbb{R}^{784}$"
   ]
  }
 ],
 "metadata": {
  "kernelspec": {
   "display_name": "penv",
   "language": "python",
   "name": "penv"
  },
  "language_info": {
   "codemirror_mode": {
    "name": "ipython",
    "version": 3
   },
   "file_extension": ".py",
   "mimetype": "text/x-python",
   "name": "python",
   "nbconvert_exporter": "python",
   "pygments_lexer": "ipython3",
   "version": "3.6.10"
  }
 },
 "nbformat": 4,
 "nbformat_minor": 5
}
