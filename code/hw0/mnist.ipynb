{
 "cells": [
  {
   "cell_type": "code",
   "execution_count": 1,
   "metadata": {},
   "outputs": [],
   "source": [
    "import torch\n",
    "import torch.nn as nn\n",
    "import numpy as np\n",
    "from torch.utils.data import DataLoader, Dataset, TensorDataset\n",
    "import torchvision.datasets as ds\n",
    "import pylab as plt"
   ]
  },
  {
   "cell_type": "code",
   "execution_count": 2,
   "metadata": {},
   "outputs": [],
   "source": [
    "def load_mnist(datadir='./data_cache'):\n",
    "    train_ds = ds.MNIST(root=datadir, train=True,\n",
    "                           download=True, transform=None)\n",
    "    test_ds = ds.MNIST(root=datadir, train=False,\n",
    "                          download=True, transform=None)\n",
    "\n",
    "    def to_xy(dataset):\n",
    "        X = np.array(dataset.data) / 255.0  # [0, 1]\n",
    "        Y = np.array(dataset.targets)\n",
    "        return X, Y\n",
    "\n",
    "    X_tr, Y_tr = to_xy(train_ds)\n",
    "    X_te, Y_te = to_xy(test_ds)\n",
    "    return X_tr, Y_tr, X_te, Y_te\n",
    "\n",
    "X_tr, Y_tr, X_te, Y_te = load_mnist()"
   ]
  },
  {
   "cell_type": "code",
   "execution_count": 3,
   "metadata": {},
   "outputs": [
    {
     "data": {
      "image/png": "[encoded data removed]",
      "text/plain": [
       "<Figure size 432x288 with 1 Axes>"
      ]
     },
     "metadata": {
      "needs_background": "light"
     },
     "output_type": "display_data"
    }
   ],
   "source": [
    "i = np.random.choice(len(X_tr))\n",
    "plt.imshow(X_tr[i], cmap='gray');\n",
    "plt.title(f'digit: {Y_tr[i]}');"
   ]
  },
  {
   "cell_type": "markdown",
   "metadata": {},
   "source": [
    "## Linear Regression"
   ]
  },
  {
   "cell_type": "code",
   "execution_count": 4,
   "metadata": {},
   "outputs": [
    {
     "name": "stdout",
     "output_type": "stream",
     "text": [
      "original X_tr: (60000, 28, 28)\n",
      "reshaped X: (500, 784)\n",
      "reshaped Y: (500,)\n"
     ]
    }
   ],
   "source": [
    "print('original X_tr:', X_tr.shape)\n",
    "\n",
    "# select 500 random examples\n",
    "n = 500\n",
    "I = np.random.choice(len(X_tr), n, replace=False)\n",
    "X = X_tr[I]\n",
    "Y = (Y_tr[I] % 2) * 2.0 - 1 # odd/even --> +1/-1\n",
    "X = X.reshape(-1,  28*28) # flatten\n",
    "\n",
    "print('reshaped X:', X.shape)\n",
    "print('reshaped Y:', Y.shape)"
   ]
  },
  {
   "cell_type": "markdown",
   "metadata": {},
   "source": [
    "Now solve:\n",
    "$$\\text{argmin}_\\beta ||X \\beta - Y||_2$$\n",
    "for $\\beta \\in \\mathbb{R}^{784}$"
   ]
  },
  {
   "cell_type": "markdown",
   "metadata": {},
   "source": [
    "### Stability of Estimates: Normal Equation"
   ]
  },
  {
   "cell_type": "code",
   "execution_count": 5,
   "metadata": {},
   "outputs": [
    {
     "name": "stdout",
     "output_type": "stream",
     "text": [
      "500\n"
     ]
    }
   ],
   "source": [
    "print(np.linalg.matrix_rank(X))"
   ]
  },
  {
   "cell_type": "markdown",
   "metadata": {},
   "source": [
    "The rank of the matrix is ultimately constrained by min(n, p) where n is the number of rows and p is the number of columns of the specific matrix. Therefore, here our matrix is not full rank, and furthermore we have more features than data points: p > n: the matrix is going to be singular and it means that there are several solutions to the normal equations. "
   ]
  },
  {
   "cell_type": "code",
   "execution_count": 6,
   "metadata": {},
   "outputs": [],
   "source": [
    "Y_test = (Y_te % 2)*2.0 - 1\n",
    "X_test = X_te.reshape(-1, 28*28)"
   ]
  },
  {
   "cell_type": "code",
   "execution_count": 7,
   "metadata": {},
   "outputs": [],
   "source": [
    "beta_estimated = np.dot(np.dot(np.linalg.pinv(np.dot(X.T, X)), X.T), Y)\n",
    "estimated_test_set = np.dot(X_test, beta_estimated)\n",
    "MSE = np.mean((estimated_test_set - Y_test)**2)\n"
   ]
  },
  {
   "cell_type": "code",
   "execution_count": 8,
   "metadata": {},
   "outputs": [
    {
     "data": {
      "text/plain": [
       "15.941332824104157"
      ]
     },
     "execution_count": 8,
     "metadata": {},
     "output_type": "execute_result"
    }
   ],
   "source": [
    "MSE"
   ]
  },
  {
   "cell_type": "markdown",
   "metadata": {},
   "source": [
    "### Stability of Estimates: SGD"
   ]
  },
  {
   "cell_type": "code",
   "execution_count": 10,
   "metadata": {},
   "outputs": [],
   "source": [
    "from autograd.misc.optimizers import sgd"
   ]
  },
  {
   "cell_type": "code",
   "execution_count": 33,
   "metadata": {},
   "outputs": [],
   "source": [
    "max_iteration = 50 # convex function, we should converge promptly to the global minima\n",
    "step_size = 1e-3 # small learning rate\n",
    "weights_init = np.zeros(X.shape[1])\n",
    "\n",
    "def make_objective(x_train, y_train):\n",
    "    \n",
    "    def objective(W, t):\n",
    "        forward = np.dot(x_train, W)\n",
    "        mse = np.mean((forward - y_train)**2)\n",
    "        return mse\n",
    "    \n",
    "    def gradient(W,t):\n",
    "        return 2*np.dot(x_train.T, np.dot(X, W) - y_train)\n",
    "    return objective, gradient\n",
    "\n",
    "objective, gradient = make_objective(X, Y)\n",
    "weights_track = []\n",
    "def call_back(weights, iteration, g):\n",
    "            ''' Actions per optimization step '''\n",
    "            objective_value = objective(weights, iteration)\n",
    "            if iteration % 1 == 0:\n",
    "                print(\"Iteration {} lower bound {}; gradient mag: {}\".format(iteration, objective_value, np.linalg.norm(gradient(weights, iteration))))\n",
    "            weights_track.append(weights)\n",
    "            # print(weights)"
   ]
  },
  {
   "cell_type": "markdown",
   "metadata": {},
   "source": [
    "First, sgd without momentum"
   ]
  },
  {
   "cell_type": "code",
   "execution_count": 34,
   "metadata": {
    "scrolled": true
   },
   "outputs": [
    {
     "name": "stdout",
     "output_type": "stream",
     "text": [
      "Iteration 0 lower bound 1.0; gradient mag: 1329.9344784616849\n",
      "Iteration 1 lower bound 4.737981577105448; gradient mag: 6231.961851475283\n",
      "Iteration 2 lower bound 849.9011833313708; gradient mag: 174533.66264566235\n",
      "Iteration 3 lower bound 1077104.2683455385; gradient mag: 6357849.902728046\n",
      "Iteration 4 lower bound 1437830277.1565504; gradient mag: 232344852.7886074\n",
      "Iteration 5 lower bound 1920341486570.1016; gradient mag: 8491207224.370295\n",
      "Iteration 6 lower bound 2564788054728881.0; gradient mag: 310317278857.9738\n",
      "Iteration 7 lower bound 3.4255043383865994e+18; gradient mag: 11340768315997.479\n",
      "Iteration 8 lower bound 4.5750680866177003e+21; gradient mag: 414456540977684.6\n",
      "Iteration 9 lower bound 6.110413512758779e+24; gradient mag: 1.5146612607977556e+16\n",
      "Iteration 10 lower bound 8.161004949001728e+27; gradient mag: 5.5354386000267725e+17\n",
      "Iteration 11 lower bound 1.0899753615457152e+31; gradient mag: 2.0229658794157076e+19\n",
      "Iteration 12 lower bound 1.4557597945361335e+34; gradient mag: 7.393074415567311e+20\n",
      "Iteration 13 lower bound 1.9442976916308962e+37; gradient mag: 2.7018522591148525e+22\n",
      "Iteration 14 lower bound 2.5967838429593346e+40; gradient mag: 9.874113555130317e+23\n",
      "Iteration 15 lower bound 3.468237583205848e+43; gradient mag: 3.6085658707167573e+25\n",
      "Iteration 16 lower bound 4.632142165461675e+46; gradient mag: 1.318776371225349e+27\n",
      "Iteration 17 lower bound 6.186641060851011e+49; gradient mag: 4.819563171662025e+28\n",
      "Iteration 18 lower bound 8.262813672082751e+52; gradient mag: 1.7613440513844143e+30\n",
      "Iteration 19 lower bound 1.1035728290686724e+56; gradient mag: 6.43695861398456e+31\n",
      "Iteration 20 lower bound 1.4739204312126918e+59; gradient mag: 2.3524328574864524e+33\n",
      "Iteration 21 lower bound 1.9685528497286174e+62; gradient mag: 8.597135201334309e+34\n",
      "Iteration 22 lower bound 2.6291787806932535e+65; gradient mag: 3.1418849398742994e+36\n",
      "Iteration 23 lower bound 3.5115039262474596e+68; gradient mag: 1.1482244659682502e+38\n",
      "Iteration 24 lower bound 4.689928244742646e+71; gradient mag: 4.1962689578976775e+39\n",
      "Iteration 25 lower bound 6.26381954934622e+74; gradient mag: 1.5335566946108392e+41\n",
      "Iteration 26 lower bound 8.365892461308832e+77; gradient mag: 5.604493322954133e+42\n",
      "Iteration 27 lower bound 1.117339925309453e+81; gradient mag: 2.0482024249522944e+44\n",
      "Iteration 28 lower bound 1.4923076222464563e+84; gradient mag: 7.485303187709393e+45\n",
      "Iteration 29 lower bound 1.993110591477431e+87; gradient mag: 2.735557927739365e+47\n",
      "Iteration 30 lower bound 2.6619778460150847e+90; gradient mag: 9.997293347188622e+48\n",
      "Iteration 31 lower bound 3.555310017906425e+93; gradient mag: 3.6535828123492173e+50\n",
      "Iteration 32 lower bound 4.74843520668209e+96; gradient mag: 1.335228136568329e+52\n",
      "Iteration 33 lower bound 6.341960841247639e+99; gradient mag: 4.879687332274776e+53\n",
      "Iteration 34 lower bound 8.470257160784131e+102; gradient mag: 1.7833168586426346e+55\n",
      "Iteration 35 lower bound 1.1312787663901843e+106; gradient mag: 6.517259819670669e+56\n",
      "Iteration 36 lower bound 1.5109241939082062e+109; gradient mag: 2.3817795110972713e+58\n",
      "Iteration 37 lower bound 2.0179746916152943e+112; gradient mag: 8.704384659271447e+59\n",
      "Iteration 38 lower bound 2.695186080425715e+115; gradient mag: 3.1810800262386595e+61\n",
      "Iteration 39 lower bound 3.599662591559072e+118; gradient mag: 1.1625485923988946e+63\n",
      "Iteration 40 lower bound 4.807672044307634e+121; gradient mag: 4.2486175089618874e+64\n",
      "Iteration 41 lower bound 6.421076947549747e+124; gradient mag: 1.552687849392185e+66\n",
      "Iteration 42 lower bound 8.575923812268368e+127; gradient mag: 5.674409505126754e+67\n",
      "Iteration 43 lower bound 1.1453914948316672e+131; gradient mag: 2.0737537969706814e+69\n",
      "Iteration 44 lower bound 1.5297730077265136e+134; gradient mag: 7.578682515889829e+70\n",
      "Iteration 45 lower bound 2.0431489719701054e+137; gradient mag: 2.769684075349578e+72\n",
      "Iteration 46 lower bound 2.72880858831887e+140; gradient mag: 1.0122009809965448e+74\n",
      "Iteration 47 lower bound 3.64456846458075e+143; gradient mag: 3.6991613413564255e+75\n",
      "Iteration 48 lower bound 4.867647862835127e+146; gradient mag: 1.3518851380596104e+77\n",
      "Iteration 49 lower bound 6.501180029084458e+149; gradient mag: 4.940561543164001e+78\n"
     ]
    },
    {
     "data": {
      "text/plain": [
       "array([0.00000000e+00, 0.00000000e+00, 0.00000000e+00, 0.00000000e+00,\n",
       "       0.00000000e+00, 0.00000000e+00, 0.00000000e+00, 0.00000000e+00,\n",
       "       0.00000000e+00, 0.00000000e+00, 0.00000000e+00, 0.00000000e+00,\n",
       "       0.00000000e+00, 0.00000000e+00, 0.00000000e+00, 0.00000000e+00,\n",
       "       0.00000000e+00, 0.00000000e+00, 0.00000000e+00, 0.00000000e+00,\n",
       "       0.00000000e+00, 0.00000000e+00, 0.00000000e+00, 0.00000000e+00,\n",
       "       0.00000000e+00, 0.00000000e+00, 0.00000000e+00, 0.00000000e+00,\n",
       "       0.00000000e+00, 0.00000000e+00, 0.00000000e+00, 0.00000000e+00,\n",
       "       0.00000000e+00, 0.00000000e+00, 3.78010838e+71, 1.43305601e+72,\n",
       "       1.41048820e+71, 1.86133608e+71, 1.50338683e+72, 1.87778812e+72,\n",
       "       1.55253410e+72, 1.51872759e+72, 2.05536281e+72, 2.08085810e+71,\n",
       "       2.73873467e+70, 7.94233054e+71, 7.94233054e+71, 0.00000000e+00,\n",
       "       0.00000000e+00, 0.00000000e+00, 0.00000000e+00, 0.00000000e+00,\n",
       "       0.00000000e+00, 0.00000000e+00, 0.00000000e+00, 0.00000000e+00,\n",
       "       0.00000000e+00, 0.00000000e+00, 0.00000000e+00, 0.00000000e+00,\n",
       "       0.00000000e+00, 0.00000000e+00, 8.06799252e+71, 1.42741406e+72,\n",
       "       1.15095837e+72, 1.43270017e+72, 1.92074203e+72, 4.27915540e+72,\n",
       "       6.09318900e+72, 5.71866095e+72, 4.51256671e+72, 4.38012725e+72,\n",
       "       7.91248009e+72, 5.38549945e+72, 2.68831664e+72, 4.83517991e+72,\n",
       "       5.31356731e+72, 5.71144412e+72, 4.27887008e+72, 4.77319434e+71,\n",
       "       0.00000000e+00, 0.00000000e+00, 0.00000000e+00, 0.00000000e+00,\n",
       "       0.00000000e+00, 0.00000000e+00, 0.00000000e+00, 0.00000000e+00,\n",
       "       0.00000000e+00, 2.74173198e+71, 3.55121017e+72, 3.15454873e+72,\n",
       "       2.40015331e+72, 5.47486232e+72, 1.22418971e+73, 1.98660155e+73,\n",
       "       2.09106922e+73, 2.67825603e+73, 3.10279954e+73, 3.81569225e+73,\n",
       "       4.01618483e+73, 3.03494311e+73, 2.27086377e+73, 2.16690285e+73,\n",
       "       2.04682256e+73, 1.24488407e+73, 8.03290735e+72, 2.99088098e+72,\n",
       "       9.32272906e+71, 0.00000000e+00, 0.00000000e+00, 0.00000000e+00,\n",
       "       0.00000000e+00, 0.00000000e+00, 0.00000000e+00, 0.00000000e+00,\n",
       "       0.00000000e+00, 1.50979887e+72, 5.91597212e+72, 8.35426814e+72,\n",
       "       1.22364518e+73, 2.30005154e+73, 3.90112380e+73, 6.19586121e+73,\n",
       "       7.93800152e+73, 1.01990126e+74, 1.20403199e+74, 1.36184873e+74,\n",
       "       1.44265853e+74, 1.20152719e+74, 9.37643632e+73, 8.10035821e+73,\n",
       "       6.11462474e+73, 3.69591586e+73, 2.12739618e+73, 6.13780940e+72,\n",
       "       2.14932281e+72, 5.06952757e+71, 0.00000000e+00, 0.00000000e+00,\n",
       "       0.00000000e+00, 0.00000000e+00, 0.00000000e+00, 0.00000000e+00,\n",
       "       0.00000000e+00, 1.62580042e+72, 8.31274428e+72, 1.69076108e+73,\n",
       "       3.50798281e+73, 6.04300395e+73, 1.00676378e+74, 1.43259702e+74,\n",
       "       1.88257985e+74, 2.20142434e+74, 2.58034310e+74, 2.82380402e+74,\n",
       "       2.94959591e+74, 2.63501800e+74, 2.16285554e+74, 1.69802165e+74,\n",
       "       1.27920015e+74, 8.35668716e+73, 4.63182900e+73, 1.87307005e+73,\n",
       "       5.25664321e+72, 1.50221010e+72, 0.00000000e+00, 0.00000000e+00,\n",
       "       0.00000000e+00, 0.00000000e+00, 0.00000000e+00, 0.00000000e+00,\n",
       "       8.12975435e+71, 5.86770206e+72, 1.68994640e+73, 3.25521071e+73,\n",
       "       5.72128777e+73, 1.07666090e+74, 1.74161668e+74, 2.26324607e+74,\n",
       "       2.80938212e+74, 3.44978696e+74, 3.85257892e+74, 4.14237272e+74,\n",
       "       4.12235273e+74, 3.79329874e+74, 3.09320358e+74, 2.46935281e+74,\n",
       "       1.82970440e+74, 1.29452726e+74, 7.60342199e+73, 3.20840075e+73,\n",
       "       1.29574402e+73, 4.20971098e+72, 3.10508865e+71, 2.36128260e+71,\n",
       "       0.00000000e+00, 5.13784311e+71, 1.06968209e+72, 1.54164787e+72,\n",
       "       1.08798007e+73, 2.01086063e+73, 3.81544695e+73, 6.01261946e+73,\n",
       "       1.04143088e+74, 1.75601912e+74, 2.43149350e+74, 2.98283548e+74,\n",
       "       3.65815322e+74, 4.16886608e+74, 4.31225913e+74, 4.47965751e+74,\n",
       "       4.42264969e+74, 4.29935967e+74, 3.78854247e+74, 3.05919352e+74,\n",
       "       2.23848399e+74, 1.57241557e+74, 1.00430330e+74, 4.51189793e+73,\n",
       "       2.44104066e+73, 1.28090009e+73, 1.75924993e+72, 7.91724166e+71,\n",
       "       0.00000000e+00, 2.94794277e+71, 6.14856635e+71, 3.46152383e+72,\n",
       "       1.33078968e+73, 2.49251552e+73, 5.42698004e+73, 9.08439654e+73,\n",
       "       1.44467980e+74, 2.27809496e+74, 2.96901594e+74, 3.54507133e+74,\n",
       "       3.96295207e+74, 4.01412718e+74, 3.86899781e+74, 3.79150172e+74,\n",
       "       3.83489331e+74, 3.98499014e+74, 3.84272973e+74, 3.16581765e+74,\n",
       "       2.39744644e+74, 1.70214765e+74, 1.14431201e+74, 5.82973464e+73,\n",
       "       2.76328313e+73, 1.09746626e+73, 1.47438500e+72, 0.00000000e+00,\n",
       "       0.00000000e+00, 0.00000000e+00, 0.00000000e+00, 2.65989082e+72,\n",
       "       8.41818200e+72, 2.86015748e+73, 6.38925183e+73, 1.06881288e+74,\n",
       "       1.73374118e+74, 2.57860791e+74, 3.25073282e+74, 3.55897403e+74,\n",
       "       3.55315266e+74, 3.23686384e+74, 2.94804038e+74, 2.80574656e+74,\n",
       "       3.07854901e+74, 3.50022106e+74, 3.70829163e+74, 3.12930551e+74,\n",
       "       2.48181828e+74, 1.72376804e+74, 1.09290502e+74, 5.18963829e+73,\n",
       "       1.83400361e+73, 6.51514604e+72, 7.66096361e+71, 0.00000000e+00,\n",
       "       0.00000000e+00, 0.00000000e+00, 1.12013238e+71, 4.13823663e+72,\n",
       "       1.07126673e+73, 3.22471741e+73, 6.53474871e+73, 1.15015656e+74,\n",
       "       1.86932564e+74, 2.69222723e+74, 3.23369830e+74, 3.33300626e+74,\n",
       "       2.93411684e+74, 2.48832450e+74, 2.22917662e+74, 2.30794657e+74,\n",
       "       2.72429901e+74, 3.43838997e+74, 3.49379040e+74, 3.05679690e+74,\n",
       "       2.37904794e+74, 1.59584945e+74, 1.02497981e+74, 4.82323923e+73,\n",
       "       1.45333955e+73, 3.56596782e+72, 5.27027130e+71, 0.00000000e+00,\n",
       "       0.00000000e+00, 0.00000000e+00, 4.48052954e+71, 4.67030788e+72,\n",
       "       9.37106377e+72, 3.13060042e+73, 7.36749335e+73, 1.28056239e+74,\n",
       "       2.09599941e+74, 2.69886222e+74, 3.19105122e+74, 3.08031723e+74,\n",
       "       2.56394436e+74, 2.18862090e+74, 2.07205272e+74, 2.36273695e+74,\n",
       "       3.00866964e+74, 3.48837072e+74, 3.53720872e+74, 3.04198097e+74,\n",
       "       2.20208683e+74, 1.55972660e+74, 1.02300217e+74, 5.12872333e+73,\n",
       "       1.42597942e+73, 4.01704380e+72, 5.24436892e+71, 0.00000000e+00,\n",
       "       0.00000000e+00, 0.00000000e+00, 6.16072812e+70, 3.67553489e+72,\n",
       "       1.04805442e+73, 3.09774223e+73, 7.44086111e+73, 1.42773497e+74,\n",
       "       2.25230295e+74, 2.82524068e+74, 3.13292236e+74, 2.93623666e+74,\n",
       "       2.56170842e+74, 2.40692988e+74, 2.60373709e+74, 3.04954360e+74,\n",
       "       3.61054912e+74, 3.86895182e+74, 3.61977865e+74, 2.87942887e+74,\n",
       "       2.06543465e+74, 1.49593802e+74, 1.02937617e+74, 5.02038136e+73,\n",
       "       1.03628737e+73, 2.62685556e+72, 1.09518847e+70, 0.00000000e+00,\n",
       "       9.13518760e+70, 0.00000000e+00, 0.00000000e+00, 2.13128060e+72,\n",
       "       1.12740954e+73, 3.75694318e+73, 7.96260952e+73, 1.48682742e+74,\n",
       "       2.28650493e+74, 2.80608107e+74, 3.07836889e+74, 2.96006315e+74,\n",
       "       2.80417308e+74, 2.94768084e+74, 3.27857983e+74, 3.83276777e+74,\n",
       "       4.12836030e+74, 4.09647479e+74, 3.53700092e+74, 2.63947237e+74,\n",
       "       1.99340069e+74, 1.46314831e+74, 1.01514243e+74, 5.54225398e+73,\n",
       "       1.55787376e+73, 3.12863658e+72, 5.80449891e+71, 0.00000000e+00,\n",
       "       0.00000000e+00, 0.00000000e+00, 0.00000000e+00, 5.59742423e+71,\n",
       "       1.15581267e+73, 4.24625501e+73, 9.26453133e+73, 1.58631999e+74,\n",
       "       2.31835337e+74, 2.77255255e+74, 2.96825394e+74, 2.90673392e+74,\n",
       "       3.05596750e+74, 3.43596806e+74, 3.83048956e+74, 4.18682972e+74,\n",
       "       4.26245205e+74, 4.04869598e+74, 3.34646530e+74, 2.48702268e+74,\n",
       "       1.92722602e+74, 1.51548604e+74, 1.00566048e+74, 5.40203165e+73,\n",
       "       1.75541553e+73, 2.86692136e+72, 7.06396565e+71, 0.00000000e+00,\n",
       "       0.00000000e+00, 0.00000000e+00, 0.00000000e+00, 1.48810220e+72,\n",
       "       1.39705322e+73, 5.28598803e+73, 1.07417947e+74, 1.68622458e+74,\n",
       "       2.35503628e+74, 2.81700781e+74, 2.89321220e+74, 2.95783187e+74,\n",
       "       3.22084163e+74, 3.53399763e+74, 3.84555122e+74, 4.04728199e+74,\n",
       "       4.08754407e+74, 3.77924736e+74, 3.04133425e+74, 2.27153076e+74,\n",
       "       1.82900263e+74, 1.45420069e+74, 9.08019807e+73, 4.41492634e+73,\n",
       "       1.59869532e+73, 2.48207218e+72, 7.06396565e+71, 0.00000000e+00,\n",
       "       0.00000000e+00, 0.00000000e+00, 0.00000000e+00, 1.53142799e+72,\n",
       "       1.74481819e+73, 5.98861917e+73, 1.12219591e+74, 1.78680660e+74,\n",
       "       2.33196842e+74, 2.62705634e+74, 2.69480397e+74, 2.79550572e+74,\n",
       "       3.01593713e+74, 3.26034227e+74, 3.45338410e+74, 3.78682208e+74,\n",
       "       3.77778967e+74, 3.48842620e+74, 2.90163049e+74, 2.32337010e+74,\n",
       "       1.89349176e+74, 1.38031842e+74, 8.17033839e+73, 3.96709948e+73,\n",
       "       1.67325972e+73, 6.59484359e+72, 9.72214282e+71, 0.00000000e+00,\n",
       "       0.00000000e+00, 0.00000000e+00, 0.00000000e+00, 3.69430900e+72,\n",
       "       2.10229547e+73, 6.45023771e+73, 1.29874385e+74, 1.79434797e+74,\n",
       "       2.15606405e+74, 2.26759745e+74, 2.36169945e+74, 2.45230141e+74,\n",
       "       2.57219962e+74, 2.73302198e+74, 3.11952656e+74, 3.54500426e+74,\n",
       "       3.70357708e+74, 3.35706796e+74, 2.96085122e+74, 2.43129760e+74,\n",
       "       1.88104382e+74, 1.28730511e+74, 7.25698469e+73, 3.34103422e+73,\n",
       "       1.83449366e+73, 8.44846180e+72, 2.02502288e+72, 0.00000000e+00,\n",
       "       0.00000000e+00, 0.00000000e+00, 0.00000000e+00, 5.97005382e+72,\n",
       "       2.88606089e+73, 7.69287797e+73, 1.40395363e+74, 1.76971887e+74,\n",
       "       1.95409386e+74, 2.11187096e+74, 2.20486527e+74, 2.25229259e+74,\n",
       "       2.28287711e+74, 2.54614565e+74, 3.15085446e+74, 3.58025241e+74,\n",
       "       3.67347704e+74, 3.48848149e+74, 3.14301025e+74, 2.50600498e+74,\n",
       "       1.79339925e+74, 1.16352703e+74, 6.59217145e+73, 3.47875152e+73,\n",
       "       2.10586365e+73, 6.86487895e+72, 9.48745695e+71, 0.00000000e+00,\n",
       "       0.00000000e+00, 0.00000000e+00, 0.00000000e+00, 8.14399933e+72,\n",
       "       4.32508638e+73, 9.12185764e+73, 1.55077794e+74, 1.83908216e+74,\n",
       "       2.04279271e+74, 2.37162523e+74, 2.50413705e+74, 2.42821687e+74,\n",
       "       2.53622290e+74, 2.91078994e+74, 3.59387937e+74, 3.93544430e+74,\n",
       "       3.86495629e+74, 3.62097207e+74, 3.07882345e+74, 2.31415835e+74,\n",
       "       1.65025783e+74, 1.08694784e+74, 5.94679307e+73, 3.22232145e+73,\n",
       "       1.68867345e+73, 5.89707382e+72, 3.65908109e+71, 0.00000000e+00,\n",
       "       0.00000000e+00, 0.00000000e+00, 0.00000000e+00, 9.71548550e+72,\n",
       "       4.55727314e+73, 8.77988994e+73, 1.48228032e+74, 1.95566284e+74,\n",
       "       2.41569528e+74, 2.72689466e+74, 2.95364246e+74, 3.08628420e+74,\n",
       "       3.28129775e+74, 3.74550195e+74, 4.18364713e+74, 4.27645368e+74,\n",
       "       4.01649351e+74, 3.48206195e+74, 2.60377137e+74, 1.86193558e+74,\n",
       "       1.39531223e+74, 8.73238743e+73, 4.94905651e+73, 2.83536586e+73,\n",
       "       1.30547266e+73, 3.25777814e+72, 0.00000000e+00, 0.00000000e+00,\n",
       "       0.00000000e+00, 0.00000000e+00, 0.00000000e+00, 7.65187464e+72,\n",
       "       3.65326355e+73, 7.45273950e+73, 1.30530036e+74, 1.84520003e+74,\n",
       "       2.46679885e+74, 3.00074667e+74, 3.38694202e+74, 3.64340009e+74,\n",
       "       3.94684487e+74, 4.32507871e+74, 4.38378312e+74, 4.07187054e+74,\n",
       "       3.50129491e+74, 2.66707297e+74, 1.90893803e+74, 1.38284050e+74,\n",
       "       1.02412961e+74, 5.90072409e+73, 3.42033713e+73, 1.99126538e+73,\n",
       "       1.03339957e+73, 1.42603118e+72, 0.00000000e+00, 0.00000000e+00,\n",
       "       0.00000000e+00, 0.00000000e+00, 0.00000000e+00, 3.96796768e+72,\n",
       "       2.26460315e+73, 4.80123681e+73, 8.93285417e+73, 1.43894817e+74,\n",
       "       2.01354048e+74, 2.59712197e+74, 3.30921906e+74, 3.67224449e+74,\n",
       "       3.93727777e+74, 4.05100178e+74, 3.88336472e+74, 3.28049439e+74,\n",
       "       2.58633780e+74, 1.91585041e+74, 1.24636214e+74, 8.30222259e+73,\n",
       "       5.34036025e+73, 2.94948368e+73, 1.85781488e+73, 1.14550815e+73,\n",
       "       4.04213146e+72, 3.95303471e+71, 0.00000000e+00, 0.00000000e+00,\n",
       "       0.00000000e+00, 0.00000000e+00, 0.00000000e+00, 6.85860673e+71,\n",
       "       6.06960096e+72, 1.65234745e+73, 4.00983907e+73, 8.31536798e+73,\n",
       "       1.30215211e+74, 1.81633581e+74, 2.43408362e+74, 2.91043187e+74,\n",
       "       3.08727420e+74, 3.10760109e+74, 2.87753962e+74, 2.23967130e+74,\n",
       "       1.68313405e+74, 1.18599151e+74, 6.96938448e+73, 4.11322330e+73,\n",
       "       2.53932828e+73, 1.53120878e+73, 7.17038180e+72, 2.03457192e+72,\n",
       "       5.60726129e+69, 0.00000000e+00, 0.00000000e+00, 0.00000000e+00,\n",
       "       0.00000000e+00, 0.00000000e+00, 0.00000000e+00, 3.92369725e+70,\n",
       "       7.81172338e+71, 3.60931460e+72, 1.01201749e+73, 2.93499972e+73,\n",
       "       5.02572889e+73, 7.32402079e+73, 1.03865104e+74, 1.49336244e+74,\n",
       "       1.85382533e+74, 1.88624094e+74, 1.67220464e+74, 1.19953603e+74,\n",
       "       8.89097611e+73, 6.04005617e+73, 3.18427154e+73, 1.78022797e+73,\n",
       "       1.33301390e+73, 6.43243570e+72, 1.93939492e+72, 0.00000000e+00,\n",
       "       0.00000000e+00, 0.00000000e+00, 0.00000000e+00, 0.00000000e+00,\n",
       "       0.00000000e+00, 0.00000000e+00, 0.00000000e+00, 0.00000000e+00,\n",
       "       0.00000000e+00, 2.33602514e+72, 5.38157790e+72, 1.24771782e+73,\n",
       "       2.32499789e+73, 2.51584461e+73, 3.04712902e+73, 4.41900472e+73,\n",
       "       6.05748392e+73, 6.00151671e+73, 5.67162983e+73, 4.89176006e+73,\n",
       "       3.92409256e+73, 2.34549692e+73, 1.26983804e+73, 6.74742045e+72,\n",
       "       6.92527326e+72, 2.02477255e+72, 0.00000000e+00, 0.00000000e+00,\n",
       "       0.00000000e+00, 0.00000000e+00, 0.00000000e+00, 0.00000000e+00,\n",
       "       0.00000000e+00, 0.00000000e+00, 0.00000000e+00, 0.00000000e+00,\n",
       "       0.00000000e+00, 8.82241765e+70, 1.11750624e+72, 1.51667445e+72,\n",
       "       3.53574135e+72, 5.46895716e+72, 9.70934862e+72, 1.49649814e+73,\n",
       "       2.39388150e+73, 2.25599946e+73, 1.69478257e+73, 1.39628899e+73,\n",
       "       1.49076819e+73, 9.39251370e+72, 4.54682805e+72, 1.81561196e+72,\n",
       "       2.83863412e+72, 2.22445141e+72, 2.30874036e+71, 0.00000000e+00,\n",
       "       0.00000000e+00, 0.00000000e+00, 0.00000000e+00, 0.00000000e+00,\n",
       "       0.00000000e+00, 0.00000000e+00, 0.00000000e+00, 0.00000000e+00,\n",
       "       0.00000000e+00, 0.00000000e+00, 0.00000000e+00, 0.00000000e+00,\n",
       "       0.00000000e+00, 1.04285724e+72, 7.72158126e+71, 0.00000000e+00,\n",
       "       0.00000000e+00, 4.74297155e+71, 2.41267951e+72, 2.22596896e+72,\n",
       "       1.41886012e+72, 1.27178401e+72, 2.68839404e+71, 0.00000000e+00,\n",
       "       3.25591589e+70, 5.53505702e+71, 3.52230901e+71, 0.00000000e+00,\n",
       "       0.00000000e+00, 0.00000000e+00, 0.00000000e+00, 0.00000000e+00])"
      ]
     },
     "execution_count": 34,
     "metadata": {},
     "output_type": "execute_result"
    }
   ],
   "source": [
    "sgd(gradient, weights_init, step_size=step_size, num_iters=max_iteration, callback=call_back, mass=0)\n"
   ]
  },
  {
   "cell_type": "markdown",
   "metadata": {},
   "source": [
    "### Spectrum of X"
   ]
  },
  {
   "cell_type": "code",
   "execution_count": 37,
   "metadata": {},
   "outputs": [
    {
     "name": "stdout",
     "output_type": "stream",
     "text": [
      "(500, 784)\n"
     ]
    }
   ],
   "source": [
    "print(X.shape)"
   ]
  },
  {
   "cell_type": "code",
   "execution_count": 50,
   "metadata": {},
   "outputs": [
    {
     "name": "stdout",
     "output_type": "stream",
     "text": [
      "(18772.859890505562+0j)\n"
     ]
    }
   ],
   "source": [
    "print(np.max(np.linalg.eig(np.dot(X.T, X))[0]))"
   ]
  },
  {
   "cell_type": "code",
   "execution_count": 51,
   "metadata": {},
   "outputs": [
    {
     "name": "stdout",
     "output_type": "stream",
     "text": [
      "(-2.937279254535514e-14+0j)\n"
     ]
    }
   ],
   "source": [
    "print(np.min(np.linalg.eig(np.dot(X.T, X))[0]))"
   ]
  },
  {
   "cell_type": "code",
   "execution_count": 52,
   "metadata": {},
   "outputs": [
    {
     "name": "stdout",
     "output_type": "stream",
     "text": [
      "inf\n"
     ]
    }
   ],
   "source": [
    "print(np.linalg.cond(np.dot(X.T, X)))"
   ]
  }
 ],
 "metadata": {
  "kernelspec": {
   "display_name": "Python 3",
   "language": "python",
   "name": "python3"
  },
  "language_info": {
   "codemirror_mode": {
    "name": "ipython",
    "version": 3
   },
   "file_extension": ".py",
   "mimetype": "text/x-python",
   "name": "python",
   "nbconvert_exporter": "python",
   "pygments_lexer": "ipython3",
   "version": "3.6.8"
  }
 },
 "nbformat": 4,
 "nbformat_minor": 5
}
